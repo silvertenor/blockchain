{
 "cells": [
  {
   "cell_type": "code",
   "execution_count": 1,
   "id": "52713c49-01e8-4a40-98eb-4a3dbc79d18f",
   "metadata": {},
   "outputs": [],
   "source": [
    "from ecdsa import SigningKey, VerifyingKey"
   ]
  },
  {
   "cell_type": "markdown",
   "id": "2ba59b8b-cbb2-4028-999c-d5eed263db10",
   "metadata": {},
   "source": [
    "## Write Private Key and Public Key"
   ]
  },
  {
   "cell_type": "code",
   "execution_count": 2,
   "id": "ad5a933d-cd4e-4fb5-8a4f-7fb057b6c355",
   "metadata": {},
   "outputs": [],
   "source": [
    "private_key = SigningKey.generate() # uses NIST192p\n",
    "with open('./.priv', 'wb') as f:\n",
    "    f.write(private_key.to_pem())\n",
    "    \n",
    "public_key = private_key.get_verifying_key()\n",
    "with open('./.pub', 'wb') as f:\n",
    "    f.write(public_key.to_pem())"
   ]
  },
  {
   "cell_type": "markdown",
   "id": "69fe1fc4-7b20-427e-96f9-d23ae071f658",
   "metadata": {},
   "source": [
    "## Test signature"
   ]
  },
  {
   "cell_type": "code",
   "execution_count": 8,
   "id": "bf05355f-8532-4a29-a076-081fa2af20ac",
   "metadata": {},
   "outputs": [
    {
     "name": "stdout",
     "output_type": "stream",
     "text": [
      "b' \\xdd`_k\\x06\\xa0EpQ\\xd2\\x8ex\\x9a\\xf8\\x0f\\xd9\\xf1\\n\\xe1\\xe0\\xb0V\\xbb;\\xcc\\xa6L\\x05\\xdf\\x93O\\x9f\\xff\\x06rO\\xafCgT\\xc7a\\x0b\\x07\\x9d\\xac\\x02'\n",
      "Verified: True\n"
     ]
    }
   ],
   "source": [
    "signature = private_key.sign(b\"Educative authorizes this shot\")\n",
    "print(signature)\n",
    "print(\"Verified:\", public_key.verify(signature, b\"Educative authorizes this shot\"))"
   ]
  },
  {
   "cell_type": "code",
   "execution_count": 6,
   "id": "1a1721c0-64f9-404f-ba5a-2d4c76bfc36c",
   "metadata": {},
   "outputs": [],
   "source": [
    "with open('./.priv', 'rb') as f:\n",
    "    private_key = SigningKey.from_pem(f.read())\n",
    "with open('./.pub', 'rb') as f:\n",
    "    public_key = VerifyingKey.from_pem(f.read())"
   ]
  },
  {
   "cell_type": "code",
   "execution_count": 6,
   "id": "72e73cbd-8cd5-48ef-93cc-e730de55089d",
   "metadata": {},
   "outputs": [
    {
     "name": "stdout",
     "output_type": "stream",
     "text": [
      "b'\\xdbT#\\xf0\\x0b\\xd2c\\x87\\xfd\\x82\\xc8\\xef\\xda\\xca6J\\xce\\xfe|\\x89\\xc6\\x81\\xaa\\xb6\\xe2$\\xdd\\xa4\\xe6\\x13\\xea\\x13*\\xd8\\x88\\x1aDO\\x15\\xee\\x9c$\\xfb\\xf8y\\x12\\x0c\\xe5'\n",
      "Verified: True\n"
     ]
    }
   ],
   "source": [
    "signature = private_key.sign(b\"Educative authorizes this shot\")\n",
    "print(signature)\n",
    "with open('./test.tmp', 'wb') as f:\n",
    "    f.write(signature)\n",
    "print(\"Verified:\", public_key.verify(signature, b\"Educative authorizes this shot\"))"
   ]
  },
  {
   "cell_type": "code",
   "execution_count": null,
   "id": "63ce9d01-3426-4c52-a281-86d6dae84634",
   "metadata": {},
   "outputs": [],
   "source": []
  }
 ],
 "metadata": {
  "kernelspec": {
   "display_name": "Python 3 (ipykernel)",
   "language": "python",
   "name": "python3"
  },
  "language_info": {
   "codemirror_mode": {
    "name": "ipython",
    "version": 3
   },
   "file_extension": ".py",
   "mimetype": "text/x-python",
   "name": "python",
   "nbconvert_exporter": "python",
   "pygments_lexer": "ipython3",
   "version": "3.9.13"
  }
 },
 "nbformat": 4,
 "nbformat_minor": 5
}
