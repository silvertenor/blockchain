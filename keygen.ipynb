{
 "cells": [
  {
   "cell_type": "code",
   "execution_count": null,
   "id": "52713c49-01e8-4a40-98eb-4a3dbc79d18f",
   "metadata": {},
   "outputs": [],
   "source": [
    "from ecdsa import SigningKey, VerifyingKey"
   ]
  },
  {
   "cell_type": "markdown",
   "id": "2ba59b8b-cbb2-4028-999c-d5eed263db10",
   "metadata": {},
   "source": [
    "## Write Private Key and Public Key"
   ]
  },
  {
   "cell_type": "code",
   "execution_count": null,
   "id": "ad5a933d-cd4e-4fb5-8a4f-7fb057b6c355",
   "metadata": {},
   "outputs": [],
   "source": [
    "private_key = SigningKey.generate() # uses NIST192p\n",
    "with open('./.priv', 'wb') as f:\n",
    "    f.write(private_key.to_pem())\n",
    "    \n",
    "public_key = private_key.get_verifying_key()\n",
    "with open('./.pub', 'wb') as f:\n",
    "    f.write(public_key.to_pem())"
   ]
  },
  {
   "cell_type": "markdown",
   "id": "69fe1fc4-7b20-427e-96f9-d23ae071f658",
   "metadata": {},
   "source": [
    "## Test signature"
   ]
  },
  {
   "cell_type": "code",
   "execution_count": null,
   "id": "bf05355f-8532-4a29-a076-081fa2af20ac",
   "metadata": {},
   "outputs": [],
   "source": [
    "signature = private_key.sign(b\"Educative authorizes this shot\")\n",
    "print(signature)\n",
    "print(\"Verified:\", public_key.verify(signature, b\"Educative authorizes this shot\"))"
   ]
  },
  {
   "cell_type": "code",
   "execution_count": null,
   "id": "1a1721c0-64f9-404f-ba5a-2d4c76bfc36c",
   "metadata": {},
   "outputs": [],
   "source": [
    "with open('./.priv', 'rb') as f:\n",
    "    private_key = SigningKey.from_pem(f.read())\n",
    "with open('./.pub', 'rb') as f:\n",
    "    public_key = VerifyingKey.from_pem(f.read())"
   ]
  },
  {
   "cell_type": "code",
   "execution_count": null,
   "id": "72e73cbd-8cd5-48ef-93cc-e730de55089d",
   "metadata": {},
   "outputs": [],
   "source": [
    "signature = private_key.sign(b\"Educative authorizes this shot\")\n",
    "print(signature)\n",
    "print(\"Verified:\", public_key.verify(signature, b\"Educative authorizes this shot\"))"
   ]
  }
 ],
 "metadata": {
  "kernelspec": {
   "display_name": "Python 3 (ipykernel)",
   "language": "python",
   "name": "python3"
  },
  "language_info": {
   "codemirror_mode": {
    "name": "ipython",
    "version": 3
   },
   "file_extension": ".py",
   "mimetype": "text/x-python",
   "name": "python",
   "nbconvert_exporter": "python",
   "pygments_lexer": "ipython3"
  }
 },
 "nbformat": 4,
 "nbformat_minor": 5
}
