{
 "cells": [
  {
   "cell_type": "code",
   "execution_count": 1,
   "id": "2d6a5f03-30dd-463f-ac12-71b53e3d901e",
   "metadata": {},
   "outputs": [],
   "source": [
    "from ecdsa import SigningKey, VerifyingKey"
   ]
  },
  {
   "cell_type": "code",
   "execution_count": 2,
   "id": "c6a0c422-98ed-4d86-bdf2-f6078f71ee28",
   "metadata": {},
   "outputs": [],
   "source": [
    "with open('./.priv', 'rb') as f:\n",
    "    private_key = SigningKey.from_pem(f.read())\n",
    "with open('./.pub', 'rb') as f:\n",
    "    public_key = VerifyingKey.from_pem(f.read())"
   ]
  },
  {
   "cell_type": "code",
   "execution_count": 3,
   "id": "1b8158c9-8b4c-4a87-bbb7-6d78ca09a608",
   "metadata": {},
   "outputs": [],
   "source": [
    "with open('./test.tmp', 'rb') as f:\n",
    "    signature = f.read()"
   ]
  },
  {
   "cell_type": "code",
   "execution_count": 6,
   "id": "7fac282f-7ef5-4787-b2c7-06d9d90c2379",
   "metadata": {},
   "outputs": [
    {
     "name": "stdout",
     "output_type": "stream",
     "text": [
      "Verified: True\n"
     ]
    }
   ],
   "source": [
    "print(\"Verified:\", public_key.verify(signature, b\"Educative authorizes this shot\"))"
   ]
  },
  {
   "cell_type": "code",
   "execution_count": null,
   "id": "90a18363-3ffb-4773-a68e-726fbf4bf157",
   "metadata": {},
   "outputs": [],
   "source": []
  }
 ],
 "metadata": {
  "kernelspec": {
   "display_name": "Python 3 (ipykernel)",
   "language": "python",
   "name": "python3"
  },
  "language_info": {
   "codemirror_mode": {
    "name": "ipython",
    "version": 3
   },
   "file_extension": ".py",
   "mimetype": "text/x-python",
   "name": "python",
   "nbconvert_exporter": "python",
   "pygments_lexer": "ipython3",
   "version": "3.9.13"
  }
 },
 "nbformat": 4,
 "nbformat_minor": 5
}
