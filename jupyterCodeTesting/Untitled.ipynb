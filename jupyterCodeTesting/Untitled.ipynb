{
 "cells": [
  {
   "cell_type": "code",
   "execution_count": null,
   "id": "87b56e8a-d639-4beb-b607-51bf8f9189e1",
   "metadata": {},
   "outputs": [],
   "source": [
    "class Contract:\n",
    "    def loadContract(self):\n",
    "        print('Loading contract from {}...'.format(self.compiled_contract_location))\n",
    "        with open(self.compiled_contract_location, \"r\") as file:\n",
    "            contractInfo = json.load(file)\n",
    "        # Get bytecode\n",
    "        self.bytecode = contractInfo[\"contracts\"][\"HashStorage.sol\"][\"HashStorage\"][\"evm\"][\"bytecode\"][\"object\"]\n",
    "        # get abi\n",
    "        self.abi = contractInfo[\"contracts\"][\"HashStorage.sol\"][\"HashStorage\"][\"abi\"]\n",
    "        # get contract address\n",
    "        load_dotenv(find_dotenv())\n",
    "        self.contract_address = os.getenv('contract_address')\n",
    "        print(os.getenv('contract_address'))\n",
    "        self.contract = self.w3.eth.contract(address=self.contract_address, abi=self.abi) # our contract\n",
    "        print('Loaded!')\n",
    "    \n",
    "    def interactDemo(self):\n",
    "        nonce = self.w3.eth.getTransactionCount(\n",
    "                    self.my_address\n",
    "                )  # gives our nonce - number of transactions\n",
    "        # initial value of hashNumber:\n",
    "        print(\n",
    "            \"Current value of favorite number: \"\n",
    "            + str(self.contract.functions.retrieve().call())\n",
    "        )  # No state change!\n",
    "\n",
    "        print(\"Updating contract...\")\n",
    "        # Store new value for hashNumber:\n",
    "        store_transaction = self.contract.functions.store(\"0x8888\").build_transaction(\n",
    "            {\n",
    "                \"gasPrice\": self.w3.eth.gas_price,\n",
    "                \"chainId\": self.chain_id,\n",
    "                \"from\": self.my_address,\n",
    "                \"nonce\": nonce,\n",
    "            }\n",
    "        )\n",
    "        signed_store_tx = self.w3.eth.account.sign_transaction(\n",
    "            store_transaction, private_key=self.private_key\n",
    "        )\n",
    "        send_store_tx = self.w3.eth.send_raw_transaction(signed_store_tx.rawTransaction)\n",
    "        tx_receipt = self.w3.eth.wait_for_transaction_receipt(send_store_tx)\n",
    "        print(\"Updated!\")\n",
    "        print(\n",
    "            \"New value of hash: \" + str(self.contract.functions.retrieve().call())\n",
    "        )\n",
    "        print(self.contract_address)"
   ]
  }
 ],
 "metadata": {
  "kernelspec": {
   "display_name": "Python 3 (ipykernel)",
   "language": "python",
   "name": "python3"
  },
  "language_info": {
   "codemirror_mode": {
    "name": "ipython",
    "version": 3
   },
   "file_extension": ".py",
   "mimetype": "text/x-python",
   "name": "python",
   "nbconvert_exporter": "python",
   "pygments_lexer": "ipython3"
  }
 },
 "nbformat": 4,
 "nbformat_minor": 5
}
