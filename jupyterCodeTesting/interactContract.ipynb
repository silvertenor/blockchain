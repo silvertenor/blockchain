{
 "cells": [
  {
   "cell_type": "markdown",
   "id": "78cc851f-750f-4f5b-9847-82ebda551ce3",
   "metadata": {},
   "source": [
    "# Interaction of Parsed Data, Hashes, and Deployed Contracts\n",
    "<hr/>"
   ]
  },
  {
   "cell_type": "markdown",
   "id": "2e28d0fb-4596-4577-8b9d-f2ea483089cf",
   "metadata": {},
   "source": [
    "## Set up Environment and Load the Contract from Memory\n",
    "Our setup consists of:\n",
    "- Importing all required packages\n",
    "- Loading the environment variables from ```.env```\n",
    "- Setting the paths for GE files\n",
    "- Loading the deployed contract into memory"
   ]
  },
  {
   "cell_type": "code",
   "execution_count": null,
   "id": "906f4ec9-8e05-424e-a9c2-70b86b4de9bb",
   "metadata": {},
   "outputs": [],
   "source": [
    "# web3.../deploy.py\n",
    "import json\n",
    "from web3 import Web3\n",
    "from dotenv import load_dotenv, find_dotenv\n",
    "import os\n",
    "from dateutil.parser import parse\n",
    "\n",
    "# load from .env file\n",
    "load_dotenv(find_dotenv())\n",
    "\n",
    "import hashlib\n",
    "\n",
    "# Constants\n",
    "LOG_TXT_PATH = 'logfiles/workstationLog.txt'\n",
    "DEVICE_XML_PATH = 'logfiles/Device.xml'\n",
    "MAKO_TCW_PATH = 'logfiles/makoTest2.tcw'\n",
    "\n",
    "# Run module to load contract\n",
    "%run ./loadContract.ipynb"
   ]
  },
  {
   "cell_type": "markdown",
   "id": "782c8b3d-9e57-4d5f-a8a0-4bdd7aae24d9",
   "metadata": {},
   "source": [
    "## Query Blockchain and Log File to Compare Hashes\n",
    "The following functions are used to generate the hash of the stored configuration file and comparing it with the hash that is stored on-chain. Here are the steps involved:\n",
    "1. Query the on-chain hash of the specified log file\n",
    "2. Generate the hash of the file that is on our local filesystem\n",
    "3. Compare the two:\n",
    "    - If they are the same, no action is taken\n",
    "    - If they differ, a new block is appended to the chain with the updated hash and other metadata"
   ]
  },
  {
   "cell_type": "code",
   "execution_count": null,
   "id": "5af75782-b8c2-415e-b0bf-ede0a83a9909",
   "metadata": {},
   "outputs": [],
   "source": [
    "def fileParser(file):\n",
    "    # Gather pertinent info from log file\n",
    "    computer_name = None\n",
    "    config_pushed = False\n",
    "    config_complete = None\n",
    "    with open(file, 'r') as file:\n",
    "        for line in file.readlines():\n",
    "            # print(line)\n",
    "            # Extract computer name\n",
    "            if 'desktop' in line.lower() and '.' not in line:\n",
    "                computer_name = line.split(' ')[-1]\n",
    "            if 'starting publish' in line.lower():\n",
    "                pass# print(line)\n",
    "            if 'download complete' in line.lower():\n",
    "                # print(line)\n",
    "                config_pushed = True\n",
    "                config_complete = parse(line[:line.index(',')])\n",
    "    if computer_name and config_pushed:          \n",
    "        # print('Computer name: ' + computer_name)\n",
    "        # print('Configuration changed on: ' + str(config_complete))\n",
    "        return computer_name, str(config_complete)"
   ]
  },
  {
   "cell_type": "code",
   "execution_count": null,
   "id": "9b51561d-018a-4065-a967-52714ff51fc7",
   "metadata": {},
   "outputs": [],
   "source": [
    "# Read file in chunks (future-proofing) and generate hash:\n",
    "def hashGenerator(file, buffer_size = 65536):\n",
    "    \"\"\"\n",
    "    This function reads a given file in chunks and generates a corresponding\n",
    "    SHA256 hash.\n",
    "\n",
    "    Parameters\n",
    "    ----------\n",
    "    file : type 'str'\n",
    "        relative path to file to hash\n",
    "    buffer_size : {65536, 'other'}, optional\n",
    "        number of bytes to read, by default 65536\n",
    "\n",
    "    Returns\n",
    "    -------\n",
    "    file_hash\n",
    "        the SHA256 hash of the file provided\n",
    "\n",
    "    Raises\n",
    "    ------\n",
    "    N/A\n",
    "    \"\"\"\n",
    "    file_hash = hashlib.sha256()\n",
    "    # Read file as binary\n",
    "    with open(file, 'rb') as f:\n",
    "        chunk = f.read(buffer_size)\n",
    "        # Keep reading and updating hash as long as there is more data:\n",
    "        while len(chunk) > 0:\n",
    "            file_hash.update(chunk)\n",
    "            chunk = f.read(buffer_size)\n",
    "    return file_hash"
   ]
  },
  {
   "cell_type": "code",
   "execution_count": null,
   "id": "e3e95216-18e1-43c1-b6cf-a4ef62eb41c9",
   "metadata": {},
   "outputs": [],
   "source": [
    "# Function to update blockchain\n",
    "def updateBlockChain(new_hash, date):\n",
    "    \"\"\"\n",
    "    This function updates the blockchain by calling the 'store' function of the\n",
    "    smart contract.\n",
    "\n",
    "    Parameters\n",
    "    ----------\n",
    "    new_hash : type 'str'\n",
    "        hash of file obtained from hashGenerator function\n",
    "    date : type 'str'\n",
    "        date the configuration was changed\n",
    "    Returns\n",
    "    -------\n",
    "    None\n",
    "\n",
    "    Raises\n",
    "    ------\n",
    "    N/A\n",
    "    \"\"\"\n",
    "    print(\"Updating contract...\")\n",
    "\n",
    "    # Get latest transaction:\n",
    "    nonce = w3.eth.getTransactionCount(\n",
    "        my_address\n",
    "    )  # gives our nonce - number of transactions\n",
    "    # Store new value for hashNumber:\n",
    "    store_transaction = hash_storage.functions.addHash(date, new_hash).build_transaction(\n",
    "        {\n",
    "            \"gasPrice\": w3.eth.gas_price,\n",
    "            \"chainId\": chain_id,\n",
    "            \"from\": my_address,\n",
    "            \"nonce\": nonce,\n",
    "        }\n",
    "    )\n",
    "    signed_store_tx = w3.eth.account.sign_transaction(\n",
    "        store_transaction, private_key=private_key\n",
    "    )\n",
    "    send_store_tx = w3.eth.send_raw_transaction(signed_store_tx.rawTransaction)\n",
    "    tx_receipt = w3.eth.wait_for_transaction_receipt(send_store_tx)\n",
    "    print(\"Updated!\")\n",
    "    print(\n",
    "        \"New value of hash: \" + str(hash_storage.functions.retrieve().call())\n",
    "    )"
   ]
  },
  {
   "cell_type": "code",
   "execution_count": null,
   "id": "c105069e-dd92-480d-8e61-7bc1fc871743",
   "metadata": {},
   "outputs": [],
   "source": [
    "# Query the hash stored on the blockchain\n",
    "on_chain_hash = str(hash_storage.functions.retrieve().call())\n",
    "print('On-chain hash: {}'.format(on_chain_hash))\n",
    "# Generate the hash of the log file\n",
    "device_hash = '0x' + hashGenerator(DEVICE_XML_PATH).hexdigest()\n",
    "print('Local hash: {}'.format(device_hash))\n",
    "# compare the two - if different, update the blockchain!\n",
    "computer_id, date_changed = fileParser(LOG_TXT_PATH)\n",
    "updateBlockChain(date_changed, device_hash)\n",
    "print(computer_id + date_changed)\n",
    "if on_chain_hash != device_hash:\n",
    "    # Gather metadata:\n",
    "    computer_id, date_changed = fileParser(LOG_TXT_PATH)\n",
    "    updateBlockChain(device_hash)\n",
    "else:\n",
    "    print('No change detected. Exiting program.')"
   ]
  },
  {
   "cell_type": "code",
   "execution_count": null,
   "id": "296d9a9a-e305-47aa-86a9-1575289c5580",
   "metadata": {},
   "outputs": [],
   "source": [
    "tx = w3.eth.get_transaction('0x26da2a7dc4807d57292b401f3a7694c2b531049da7f476d2792ade3a11256b51')"
   ]
  },
  {
   "cell_type": "code",
   "execution_count": null,
   "id": "3a487ab3-8d86-4552-8e08-9379fcc13c8a",
   "metadata": {},
   "outputs": [],
   "source": [
    "obj, params = hash_storage.decode_function_input(tx['input'])"
   ]
  },
  {
   "cell_type": "code",
   "execution_count": null,
   "id": "57370bff-d9da-46bd-9416-0c38cb8c693c",
   "metadata": {},
   "outputs": [],
   "source": [
    "obj"
   ]
  },
  {
   "cell_type": "code",
   "execution_count": null,
   "id": "bd978430-589b-40ff-9c95-e50a846dc3d5",
   "metadata": {},
   "outputs": [],
   "source": [
    "params"
   ]
  }
 ],
 "metadata": {
  "kernelspec": {
   "display_name": "Python 3 (ipykernel)",
   "language": "python",
   "name": "python3"
  },
  "language_info": {
   "codemirror_mode": {
    "name": "ipython",
    "version": 3
   },
   "file_extension": ".py",
   "mimetype": "text/x-python",
   "name": "python",
   "nbconvert_exporter": "python",
   "pygments_lexer": "ipython3"
  }
 },
 "nbformat": 4,
 "nbformat_minor": 5
}
