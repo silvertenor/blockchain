{
 "cells": [
  {
   "cell_type": "code",
   "execution_count": 1,
   "id": "866c301f-12fc-44d4-86ad-1ccd222b55c6",
   "metadata": {},
   "outputs": [
    {
     "data": {
      "text/plain": [
       "{'width': 1000, 'height': 1000, 'scroll': True}"
      ]
     },
     "execution_count": 1,
     "metadata": {},
     "output_type": "execute_result"
    }
   ],
   "source": [
    "from notebook.services.config import ConfigManager\n",
    "cm = ConfigManager()\n",
    "cm.update('livereveal', {\n",
    "              'width': 1000,\n",
    "              'height': 1000,\n",
    "              'scroll': True,\n",
    "})"
   ]
  },
  {
   "cell_type": "markdown",
   "id": "78cc851f-750f-4f5b-9847-82ebda551ce3",
   "metadata": {},
   "source": [
    "# Interaction of Parsed Data, Hashes, and Deployed Contracts\n",
    "### GE Cybersecurity Project\n",
    "<hr/>"
   ]
  },
  {
   "cell_type": "markdown",
   "id": "9950172c-e174-4ec9-9d52-868f9c5a465f",
   "metadata": {},
   "source": [
    "# Prototype of System\n",
    "![Prototype](./1.png)"
   ]
  },
  {
   "cell_type": "markdown",
   "id": "1e6c05b5-7fea-440e-91be-ea7b95e6685c",
   "metadata": {},
   "source": [
    "# High-Level Software Interactions\n",
    "![Image](./2.png)"
   ]
  },
  {
   "cell_type": "markdown",
   "id": "b60d65db-efb0-4dfd-8f91-ccb4f687a369",
   "metadata": {},
   "source": [
    "# Program Flowchart\n",
    "<img src=\"./3.png\" height=600>"
   ]
  },
  {
   "cell_type": "markdown",
   "id": "2e28d0fb-4596-4577-8b9d-f2ea483089cf",
   "metadata": {},
   "source": [
    "## Set up Environment and Load the Contract from Memory\n",
    "Our setup consists of:\n",
    "- Importing all required packages\n",
    "- Loading the environment variables from ```.env```\n",
    "- Setting the paths for GE files\n",
    "- Loading the deployed contract into memory"
   ]
  },
  {
   "cell_type": "code",
   "execution_count": 2,
   "id": "906f4ec9-8e05-424e-a9c2-70b86b4de9bb",
   "metadata": {},
   "outputs": [],
   "source": [
    "# web3.../deploy.py\n",
    "import json\n",
    "from web3 import Web3\n",
    "from dotenv import load_dotenv, find_dotenv\n",
    "import os\n",
    "from dateutil.parser import parse\n",
    "\n",
    "# load from .env file\n",
    "load_dotenv(find_dotenv())\n",
    "\n",
    "import hashlib\n",
    "\n",
    "# Constants\n",
    "LOG_TXT_PATH = 'logfiles/workstationLog.txt'\n",
    "DEVICE_XML_PATH = 'logfiles/Device.xml'\n",
    "MAKO_TCW_PATH = 'logfiles/makoTest2.tcw'\n",
    "\n",
    "# Run module to load contract\n",
    "%run ./loadContract.ipynb"
   ]
  },
  {
   "cell_type": "markdown",
   "id": "782c8b3d-9e57-4d5f-a8a0-4bdd7aae24d9",
   "metadata": {},
   "source": [
    "## Query Blockchain and Log File to Compare Hashes\n",
    "The following functions are used to generate the hash of the stored configuration file and comparing it with the hash that is stored on-chain. Here are the steps involved:\n",
    "1. Query the on-chain hash of the specified log file\n",
    "2. Generate the hash of the file that is on our local filesystem\n",
    "3. Compare the two:\n",
    "    - If they are the same, no action is taken\n",
    "    - If they differ, a new block is appended to the chain with the updated hash and other metadata\n",
    "        - Includes time configuration was changed and computer/user ID of person who changed it"
   ]
  },
  {
   "cell_type": "code",
   "execution_count": 3,
   "id": "5af75782-b8c2-415e-b0bf-ede0a83a9909",
   "metadata": {},
   "outputs": [],
   "source": [
    "def fileParser(file):\n",
    "    # Gather pertinent info from log file\n",
    "    computer_name = None\n",
    "    config_pushed = False\n",
    "    config_complete = None\n",
    "    with open(file, 'r') as file:\n",
    "        for line in file.readlines():\n",
    "            # print(line)\n",
    "            # Extract computer name\n",
    "            if 'desktop' in line.lower() and '.' not in line:\n",
    "                computer_name = line.split(' ')[-1][:-1]\n",
    "            if 'starting publish' in line.lower():\n",
    "                pass# print(line)\n",
    "            if 'download complete' in line.lower():\n",
    "                # print(line)\n",
    "                config_pushed = True\n",
    "                config_complete = parse(line[:line.index(',')])\n",
    "    if computer_name and config_pushed:          \n",
    "        # print('Computer name: ' + computer_name)\n",
    "        # print('Configuration changed on: ' + str(config_complete))\n",
    "        return computer_name, str(config_complete)"
   ]
  },
  {
   "cell_type": "code",
   "execution_count": 4,
   "id": "9b51561d-018a-4065-a967-52714ff51fc7",
   "metadata": {},
   "outputs": [],
   "source": [
    "# Read file in chunks (future-proofing) and generate hash:\n",
    "def hashGenerator(file, buffer_size = 65536):\n",
    "    \"\"\"\n",
    "    This function reads a given file in chunks and generates a corresponding\n",
    "    SHA256 hash.\n",
    "\n",
    "    Parameters\n",
    "    ----------\n",
    "    file : type 'str'\n",
    "        relative path to file to hash\n",
    "    buffer_size : {65536, 'other'}, optional\n",
    "        number of bytes to read, by default 65536\n",
    "\n",
    "    Returns\n",
    "    -------\n",
    "    file_hash\n",
    "        the SHA256 hash of the file provided\n",
    "\n",
    "    Raises\n",
    "    ------\n",
    "    N/A\n",
    "    \"\"\"\n",
    "    file_hash = hashlib.sha256()\n",
    "    # Read file as binary\n",
    "    with open(file, 'rb') as f:\n",
    "        chunk = f.read(buffer_size)\n",
    "        # Keep reading and updating hash as long as there is more data:\n",
    "        while len(chunk) > 0:\n",
    "            file_hash.update(chunk)\n",
    "            chunk = f.read(buffer_size)\n",
    "    return file_hash"
   ]
  },
  {
   "cell_type": "code",
   "execution_count": 5,
   "id": "e3e95216-18e1-43c1-b6cf-a4ef62eb41c9",
   "metadata": {},
   "outputs": [],
   "source": [
    "# Function to update blockchain\n",
    "def updateBlockChain(date, new_hash, computer_id, pvsTx):\n",
    "    \"\"\"\n",
    "    This function updates the blockchain by calling the 'store' function of the\n",
    "    smart contract.\n",
    "\n",
    "    Parameters\n",
    "    ----------\n",
    "    new_hash : type 'str'\n",
    "        hash of file obtained from hashGenerator function\n",
    "    date : type 'str'\n",
    "        date the configuration was changed\n",
    "    computer_id : type 'str'\n",
    "        ID of the computer/user. Found in the top line of the log file\n",
    "    Returns\n",
    "    -------\n",
    "    None\n",
    "\n",
    "    Raises\n",
    "    ------\n",
    "    N/A\n",
    "    \"\"\"\n",
    "    print(\"Updating contract...\")\n",
    "\n",
    "    # Get latest transaction:\n",
    "    nonce = w3.eth.getTransactionCount(\n",
    "        my_address\n",
    "    )  # gives our nonce - number of transactions\n",
    "    # Store new value for hashNumber:\n",
    "    store_transaction = hash_storage.functions.addHash(date, new_hash, computer_id, pvsTx).build_transaction(\n",
    "        {\n",
    "            \"gasPrice\": w3.eth.gas_price,\n",
    "            \"chainId\": chain_id,\n",
    "            \"from\": my_address,\n",
    "            \"nonce\": nonce,\n",
    "        }\n",
    "    )\n",
    "    signed_store_tx = w3.eth.account.sign_transaction(\n",
    "        store_transaction, private_key=private_key\n",
    "    )\n",
    "    send_store_tx = w3.eth.send_raw_transaction(signed_store_tx.rawTransaction)\n",
    "    tx_receipt = w3.eth.wait_for_transaction_receipt(send_store_tx)\n",
    "    print(\"Updated!\")\n",
    "    print(\n",
    "        \"New value of hash: \" + hash_storage.functions.retrieve().call()[0]\n",
    "    )"
   ]
  },
  {
   "cell_type": "markdown",
   "id": "d3798104-6f85-409b-949b-79db9703ccae",
   "metadata": {},
   "source": [
    "Encryption/Decryption Functions"
   ]
  },
  {
   "cell_type": "code",
   "execution_count": 6,
   "id": "0b090271-9edd-43bc-be2c-7d57dc266dbe",
   "metadata": {},
   "outputs": [],
   "source": [
    "from cryptography.fernet import Fernet\n",
    "def encrypt(paramToEncrypt):\n",
    "    # Read the key\n",
    "    with open('mykey.key', 'rb') as mykey:\n",
    "        key = mykey.read()\n",
    "    # Encrypt the value\n",
    "    f = Fernet(key)\n",
    "    encryptedParam = f.encrypt(bytes(paramToEncrypt, 'utf-8'))\n",
    "    return encryptedParam\n",
    "\n",
    "def decrypt(paramToDecrypt):\n",
    "    # Read the key\n",
    "    with open('mykey.key', 'rb') as mykey:\n",
    "        key = mykey.read()\n",
    "        \n",
    "    f = Fernet(key)\n",
    "    decryptedParam = f.decrypt(paramToDecrypt).decode()\n",
    "    return decryptedParam\n",
    "    \n",
    "    "
   ]
  },
  {
   "cell_type": "code",
   "execution_count": 7,
   "id": "c105069e-dd92-480d-8e61-7bc1fc871743",
   "metadata": {},
   "outputs": [
    {
     "name": "stdout",
     "output_type": "stream",
     "text": [
      "On-chain hash: 0xfcf9b277a29ca61e5661ff86a2ce053748b0ca0abf7c887a98c78ec84094a149\n",
      "Local hash: 0xfcf9b277a29ca61e5661ff86a2ce053748b0ca0abf7c887a98c78ec84094a149\n",
      "No change detected. Exiting program.\n"
     ]
    }
   ],
   "source": [
    "# Query the hash stored on the blockchain\n",
    "on_chain_hash = hash_storage.functions.retrieve().call()[0]\n",
    "print('On-chain hash: {}'.format(on_chain_hash))\n",
    "# Generate the hash of the log file\n",
    "device_hash = '0x' + hashGenerator(DEVICE_XML_PATH).hexdigest()\n",
    "print('Local hash: {}'.format(device_hash))\n",
    "# compare the two - if different, update the blockchain!\n",
    "if on_chain_hash != device_hash:\n",
    "    # Gather metadata:\n",
    "    computer_id, date_changed = fileParser(LOG_TXT_PATH)\n",
    "    # Get previous tx hash\n",
    "    previousTxHash = w3.eth.get_block('latest')['transactions'][0].hex()\n",
    "    # Encrypt the metadata before updating the chain\n",
    "    computer_id, date_changed = encrypt(computer_id), encrypt(date_changed)\n",
    "    # Update blockchain\n",
    "    updateBlockChain(date_changed, device_hash, computer_id, previousTxHash)\n",
    "else:\n",
    "    print('No change detected. Exiting program.')"
   ]
  },
  {
   "cell_type": "markdown",
   "id": "275a0db3-e80c-43b1-b2ae-b54f70b56837",
   "metadata": {},
   "source": [
    "## Demo - See all Previous Transactions on Our Contract and the Metadata Associated with Each"
   ]
  },
  {
   "cell_type": "code",
   "execution_count": 8,
   "id": "aa63c117-fe57-4f56-8e91-6a9ba0150c86",
   "metadata": {},
   "outputs": [
    {
     "name": "stdout",
     "output_type": "stream",
     "text": [
      "Updating contract...\n",
      "Updated!\n",
      "New value of hash: 0xfcf9b277a29ca61e5661ff86a2ce053748b0ca0abf7c887a98c78ec84094a149\n"
     ]
    }
   ],
   "source": [
    "# ONLY RUN THIS FOR DEMO PURPOSES\n",
    "computer_id, date_changed = fileParser(LOG_TXT_PATH)\n",
    "# Encrypt the metadata before updating the chain\n",
    "computer_id, date_changed = encrypt(computer_id), encrypt(date_changed)\n",
    "blockNum = w3.eth.block_number\n",
    "for i in range(blockNum, 0, -1):\n",
    "    toContract = w3.eth.get_transaction_by_block(i, 0)['to']\n",
    "    if toContract == hash_storage.address:\n",
    "        # Get previous tx hash\n",
    "        previousTxHash = w3.eth.get_block(i)['transactions'][0].hex()\n",
    "        \n",
    "        # Update blockchain\n",
    "        updateBlockChain(date_changed, device_hash, computer_id, previousTxHash)\n",
    "        break"
   ]
  },
  {
   "cell_type": "code",
   "execution_count": 9,
   "id": "58938b90-c4d8-40a1-bef1-e40f76128a0f",
   "metadata": {},
   "outputs": [],
   "source": [
    "pvsTx = hash_storage.functions.retrieve().call()[3]\n",
    "history = []\n",
    "while pvsTx:\n",
    "    tx = w3.eth.get_transaction(pvsTx)\n",
    "    try:\n",
    "        obj, params = hash_storage.decode_function_input(tx['input'])\n",
    "        params['_time'] = decrypt(params['_time'])\n",
    "        params['_userID'] = decrypt(params['_userID'])\n",
    "        pvsTx = params['_previousTx']\n",
    "        history.append(params)\n",
    "    except:\n",
    "        pvsTx = False        "
   ]
  },
  {
   "cell_type": "code",
   "execution_count": 10,
   "id": "014f4ab7-cb01-4774-ab57-2ab09e9cf677",
   "metadata": {},
   "outputs": [
    {
     "data": {
      "text/plain": [
       "'0xaF88D78e60A7fe5061213681D513caba046B94cd'"
      ]
     },
     "execution_count": 10,
     "metadata": {},
     "output_type": "execute_result"
    }
   ],
   "source": [
    "hash_storage.address"
   ]
  },
  {
   "cell_type": "code",
   "execution_count": 31,
   "id": "61f6b8e8-e047-491c-832f-1e24231519b4",
   "metadata": {},
   "outputs": [
    {
     "data": {
      "text/plain": [
       "[('2022-07-04 17:49:11',\n",
       "  '0xfcf9b277a29ca61e5661ff86a2ce053748b0ca0abf7c887a98c78ec84094a149',\n",
       "  'DESKTOP-V8GI6RV',\n",
       "  '0x2d390a10bb93c044a71734c1e87dfe7569f27cb539e42b16bc02e09087671636'),\n",
       " ('2022-07-04 17:49:11',\n",
       "  '0xfcf9b277a29ca61e5661ff86a2ce053748b0ca0abf7c887a98c78ec84094a149',\n",
       "  'DESKTOP-V8GI6RV',\n",
       "  '0xb7795ef98a132a90f90748a47d5c65e52d8d987f52d85edf1a1601f3a4dd354f'),\n",
       " ('2022-07-04 17:49:11',\n",
       "  '0xfcf9b277a29ca61e5661ff86a2ce053748b0ca0abf7c887a98c78ec84094a149',\n",
       "  'DESKTOP-V8GI6RV',\n",
       "  '0xcf8f64f944e563c500048fded6d131edb8aa137d6d9280c8b858615985f1a3d2'),\n",
       " ('2022-07-04 17:49:11',\n",
       "  '0xfcf9b277a29ca61e5661ff86a2ce053748b0ca0abf7c887a98c78ec84094a149',\n",
       "  'DESKTOP-V8GI6RV',\n",
       "  '0x14627426ba68b49c8c0a9bb409c566dda85773e487178d3b45f43609cd969f1a')]"
      ]
     },
     "execution_count": 31,
     "metadata": {},
     "output_type": "execute_result"
    }
   ],
   "source": [
    "import pandas as pd\n",
    "df = pd.DataFrame(history)\n",
    "df = df[['_time', '_userID', '_hashNumber', '_previousTx']]\n",
    "df.rename(columns={'_time': 'Date', '_userID': 'User ID', '_hashNumber': 'Hash', '_previousTx': 'Previous Transaction'}, inplace=True)\n",
    "# df.set_index('_time', inplace=True)\n",
    "headers = []\n",
    "data = []\n",
    "for item in history:\n",
    "    row = ()\n",
    "    for key in item:\n",
    "        row += item[key],\n",
    "    data.append(row)\n",
    "for item in df.columns:\n",
    "    headers.append(item)\n",
    "data"
   ]
  },
  {
   "cell_type": "code",
   "execution_count": 12,
   "id": "b28864bd-c976-4195-bcc9-7f1de51fde7b",
   "metadata": {},
   "outputs": [
    {
     "data": {
      "text/plain": [
       "'0xaF88D78e60A7fe5061213681D513caba046B94cd'"
      ]
     },
     "execution_count": 12,
     "metadata": {},
     "output_type": "execute_result"
    }
   ],
   "source": [
    "hash_storage.address"
   ]
  },
  {
   "cell_type": "code",
   "execution_count": null,
   "id": "61c94946-dd84-4dfd-8b82-0ca80208c46b",
   "metadata": {},
   "outputs": [],
   "source": []
  }
 ],
 "metadata": {
  "kernelspec": {
   "display_name": "Python 3 (ipykernel)",
   "language": "python",
   "name": "python3"
  },
  "language_info": {
   "codemirror_mode": {
    "name": "ipython",
    "version": 3
   },
   "file_extension": ".py",
   "mimetype": "text/x-python",
   "name": "python",
   "nbconvert_exporter": "python",
   "pygments_lexer": "ipython3",
   "version": "3.9.13"
  }
 },
 "nbformat": 4,
 "nbformat_minor": 5
}
