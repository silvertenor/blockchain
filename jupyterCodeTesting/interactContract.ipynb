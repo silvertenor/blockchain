{
 "cells": [
  {
   "cell_type": "markdown",
   "id": "78cc851f-750f-4f5b-9847-82ebda551ce3",
   "metadata": {},
   "source": [
    "# Interaction of Parsed Data, Hashes, and Deployed Contracts\n",
    "<hr/>"
   ]
  },
  {
   "cell_type": "code",
   "execution_count": null,
   "id": "906f4ec9-8e05-424e-a9c2-70b86b4de9bb",
   "metadata": {},
   "outputs": [],
   "source": [
    "# web3.../deploy.py\n",
    "import json\n",
    "from web3 import Web3\n",
    "from dotenv import load_dotenv, find_dotenv\n",
    "import os\n",
    "\n",
    "# load from .env file\n",
    "load_dotenv(find_dotenv())\n",
    "\n",
    "import hashlib\n",
    "\n",
    "# Constants\n",
    "LOG_TXT_PATH = 'logfiles/workstationLog.txt'\n",
    "DEVICE_XML_PATH = 'logfiles/Device.xml'\n",
    "MAKO_TCW_PATH = 'logfiles/makoTest2.tcw'"
   ]
  },
  {
   "cell_type": "markdown",
   "id": "47dd3d62-e672-489b-9c35-93eb0b50ef12",
   "metadata": {},
   "source": [
    "### Run Loader Module"
   ]
  },
  {
   "cell_type": "code",
   "execution_count": null,
   "id": "bc5e5783-c92c-4296-82b6-a0113d172542",
   "metadata": {},
   "outputs": [],
   "source": [
    "%run ./loadContract.ipynb"
   ]
  },
  {
   "cell_type": "markdown",
   "id": "530d4f90-a4df-4aa8-98af-33b73c6ea610",
   "metadata": {},
   "source": [
    "### Interact with Smart Contract"
   ]
  },
  {
   "cell_type": "code",
   "execution_count": null,
   "id": "b586ebcf-64d8-488b-b646-9ccec85469db",
   "metadata": {},
   "outputs": [],
   "source": [
    "# Now we can interact with our contract with a call or a transact\n",
    "# Call -> simulate making the call and getting the return value (no state change to blockchain)\n",
    "# Transact -> actually make a state change (have to build & send transaction)\n",
    "# Get latest transaction:\n",
    "nonce = w3.eth.getTransactionCount(\n",
    "    my_address\n",
    ")  # gives our nonce - number of transactions\n",
    "# initial value of hashNumber:\n",
    "print(\n",
    "    \"Current value of favorite number: \"\n",
    "    + str(hash_storage.functions.retrieve().call())\n",
    ")  # No state change!\n",
    "\n",
    "print(\"Updating contract...\")\n",
    "# Store new value for hashNumber:\n",
    "store_transaction = hash_storage.functions.store(\"0x8888\").build_transaction(\n",
    "    {\n",
    "        \"gasPrice\": w3.eth.gas_price,\n",
    "        \"chainId\": chain_id,\n",
    "        \"from\": my_address,\n",
    "        \"nonce\": nonce,\n",
    "    }\n",
    ")\n",
    "signed_store_tx = w3.eth.account.sign_transaction(\n",
    "    store_transaction, private_key=private_key\n",
    ")\n",
    "send_store_tx = w3.eth.send_raw_transaction(signed_store_tx.rawTransaction)\n",
    "tx_receipt = w3.eth.wait_for_transaction_receipt(send_store_tx)\n",
    "print(\"Updated!\")\n",
    "print(\n",
    "    \"New value of hash: \" + str(hash_storage.functions.retrieve().call())\n",
    ")"
   ]
  },
  {
   "cell_type": "markdown",
   "id": "782c8b3d-9e57-4d5f-a8a0-4bdd7aae24d9",
   "metadata": {},
   "source": [
    "## Query Blockchain and Log File to Compare Hashes"
   ]
  },
  {
   "cell_type": "code",
   "execution_count": null,
   "id": "9b51561d-018a-4065-a967-52714ff51fc7",
   "metadata": {},
   "outputs": [],
   "source": [
    "# Read file in chunks (future-proofing) and generate hash:\n",
    "def hashGenerator(file, buffer_size = 65536):\n",
    "    \"\"\"\n",
    "    This function reads a given file in chunks and generates a corresponding\n",
    "    SHA256 hash.\n",
    "\n",
    "    Parameters\n",
    "    ----------\n",
    "    file : type 'str'\n",
    "        relative path to file to hash\n",
    "    buffer_size : {65536, 'other'}, optional\n",
    "        number of bytes to read, by default 65536\n",
    "\n",
    "    Returns\n",
    "    -------\n",
    "    file_hash\n",
    "        the SHA256 hash of the file provided\n",
    "\n",
    "    Raises\n",
    "    ------\n",
    "    N/A\n",
    "    \"\"\"\n",
    "    file_hash = hashlib.sha256()\n",
    "    # Read file as binary\n",
    "    with open(file, 'rb') as f:\n",
    "        chunk = f.read(buffer_size)\n",
    "        # Keep reading and updating hash as long as there is more data:\n",
    "        while len(chunk) > 0:\n",
    "            file_hash.update(chunk)\n",
    "            chunk = f.read(buffer_size)\n",
    "    return file_hash"
   ]
  },
  {
   "cell_type": "code",
   "execution_count": null,
   "id": "e3e95216-18e1-43c1-b6cf-a4ef62eb41c9",
   "metadata": {},
   "outputs": [],
   "source": [
    "# Function to update blockchain\n",
    "def updateBlockChain(new_hash):\n",
    "    \"\"\"\n",
    "    This function updates the blockchain by calling the 'store' function of the\n",
    "    smart contract.\n",
    "\n",
    "    Parameters\n",
    "    ----------\n",
    "    new_hash : type 'str'\n",
    "        hash of file obtained from hashGenerator function\n",
    "\n",
    "    Returns\n",
    "    -------\n",
    "    None\n",
    "\n",
    "    Raises\n",
    "    ------\n",
    "    N/A\n",
    "    \"\"\"\n",
    "    print(\"Updating contract...\")\n",
    "\n",
    "    # Get latest transaction:\n",
    "    nonce = w3.eth.getTransactionCount(\n",
    "        my_address\n",
    "    )  # gives our nonce - number of transactions\n",
    "    # Store new value for hashNumber:\n",
    "    store_transaction = hash_storage.functions.store(new_hash).build_transaction(\n",
    "        {\n",
    "            \"gasPrice\": w3.eth.gas_price,\n",
    "            \"chainId\": chain_id,\n",
    "            \"from\": my_address,\n",
    "            \"nonce\": nonce,\n",
    "        }\n",
    "    )\n",
    "    signed_store_tx = w3.eth.account.sign_transaction(\n",
    "        store_transaction, private_key=private_key\n",
    "    )\n",
    "    send_store_tx = w3.eth.send_raw_transaction(signed_store_tx.rawTransaction)\n",
    "    tx_receipt = w3.eth.wait_for_transaction_receipt(send_store_tx)\n",
    "    print(\"Updated!\")\n",
    "    print(\n",
    "        \"New value of hash: \" + str(hash_storage.functions.retrieve().call())\n",
    "    )"
   ]
  },
  {
   "cell_type": "code",
   "execution_count": null,
   "id": "c105069e-dd92-480d-8e61-7bc1fc871743",
   "metadata": {},
   "outputs": [],
   "source": [
    "# Query the hash stored on the blockchain\n",
    "on_chain_hash = str(hash_storage.functions.retrieve().call())\n",
    "# Generate the hash of the log file\n",
    "workstation_log_hash = '0x' + hashGenerator(LOG_TXT_PATH).hexdigest()\n",
    "# compare the two - if different, update the blockchain!\n",
    "if on_chain_hash != workstation_log_hash:\n",
    "    updateBlockChain(workstation_log_hash)"
   ]
  }
 ],
 "metadata": {
  "kernelspec": {
   "display_name": "Python 3 (ipykernel)",
   "language": "python",
   "name": "python3"
  },
  "language_info": {
   "codemirror_mode": {
    "name": "ipython",
    "version": 3
   },
   "file_extension": ".py",
   "mimetype": "text/x-python",
   "name": "python",
   "nbconvert_exporter": "python",
   "pygments_lexer": "ipython3"
  }
 },
 "nbformat": 4,
 "nbformat_minor": 5
}
