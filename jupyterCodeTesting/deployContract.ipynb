{
 "cells": [
  {
   "cell_type": "markdown",
   "id": "a352a157-04af-4582-bd84-4d3cb700b085",
   "metadata": {},
   "source": [
    "# Building and Deploying a Smart Contract\n",
    "<hr/>"
   ]
  },
  {
   "cell_type": "code",
   "execution_count": null,
   "id": "97f16edc-09ec-43dc-9aba-9b4ea97fa74d",
   "metadata": {},
   "outputs": [],
   "source": [
    "# Time the notebook\n",
    "import datetime\n",
    "start = datetime.datetime.now()"
   ]
  },
  {
   "cell_type": "markdown",
   "id": "d010dc43-2561-4c17-9a3f-f67b72965c65",
   "metadata": {},
   "source": [
    "### Step 1 - Build the Smart Contract"
   ]
  },
  {
   "cell_type": "code",
   "execution_count": null,
   "id": "3be7d8fb-33c3-452d-9686-bac15d3a9622",
   "metadata": {},
   "outputs": [],
   "source": [
    "# web3.../deploy.py\n",
    "from solcx import compile_standard, install_solc\n",
    "import json\n",
    "from web3 import Web3\n",
    "from dotenv import load_dotenv\n",
    "import os\n",
    "\n",
    "# load from .env file\n",
    "load_dotenv()\n",
    "\n",
    "# Install solc compiler\n",
    "install_solc(\"0.6.0\")\n",
    "\n",
    "with open(\"./HashStorage.sol\", \"r\") as file:\n",
    "    hash_storage_file = file.read()\n",
    "\n",
    "# Compile our solidity\n",
    "\n",
    "compiled_sol = compile_standard(\n",
    "    {\n",
    "        \"language\": \"Solidity\",\n",
    "        \"sources\": {\"HashStorage.sol\": {\"content\": hash_storage_file}},\n",
    "        \"settings\": {\n",
    "            \"outputSelection\": {\n",
    "                \"*\": {\"*\": [\"abi\", \"metadata\", \"evm.bytecode\", \"evm.sourceMap\"]}\n",
    "            }\n",
    "        },\n",
    "    },\n",
    "    solc_version=\"0.6.0\",\n",
    ")\n",
    "\n",
    "# Save compiled code to JSON file\n",
    "with open(\"compiled_code.json\", \"w\") as file:\n",
    "    json.dump(compiled_sol, file)\n",
    "\n",
    "# Deploy file Prereqs\n",
    "# Get bytecode\n",
    "bytecode = compiled_sol[\"contracts\"][\"HashStorage.sol\"][\"HashStorage\"][\"evm\"][\"bytecode\"][\"object\"]\n",
    "\n",
    "# get abi\n",
    "abi = compiled_sol[\"contracts\"][\"HashStorage.sol\"][\"HashStorage\"][\"abi\"]"
   ]
  },
  {
   "cell_type": "markdown",
   "id": "9cdd5df1-00a3-477e-ac22-c2d83e728f5d",
   "metadata": {},
   "source": [
    "### Step 2 - Set up Blockchain Connection"
   ]
  },
  {
   "cell_type": "code",
   "execution_count": null,
   "id": "4ffee01c-2081-4a19-b0a2-6fa4fc0a4d41",
   "metadata": {},
   "outputs": [],
   "source": [
    "w3 = Web3(\n",
    "    Web3.HTTPProvider(\"HTTP://127.0.0.1:7545\")\n",
    ")  # Get this address from RPC provider in ganache GUI\n",
    "chain_id = 1337  # From Network ID of ganache GUI\n",
    "my_address = os.getenv(\"PUBLIC_KEY\")  # address to deploy from - one of fake accounts in GUI\n",
    "private_key = os.getenv(\"PRIVATE_KEY\")  # From key symbol next to account\n",
    "# print(private_key)\n",
    "### BETTER - use os.getenv(\"PRIVATE_KEY\") where private key is stored as environment variable. Can also store in .env file"
   ]
  },
  {
   "cell_type": "markdown",
   "id": "d5e9074b-921b-4bdc-bd5e-3bd84aac6b01",
   "metadata": {},
   "source": [
    "### Step 3 - Deploy Smart Contract"
   ]
  },
  {
   "cell_type": "code",
   "execution_count": null,
   "id": "8f47d3c9-3d0d-4bc5-8ebb-c789a360a574",
   "metadata": {},
   "outputs": [],
   "source": [
    "# Now we have all parameters we need to interact with Ganache local chain\n",
    "HashStorage = w3.eth.contract(abi=abi, bytecode=bytecode)  # This is our contract\n",
    "# Get latest transaction:\n",
    "nonce = w3.eth.getTransactionCount(\n",
    "    my_address\n",
    ")  # gives our nonce - number of transactions\n",
    "# print(nonce)\n",
    "# 1. Build a transacton\n",
    "# 2. Sign a transaction\n",
    "# 3. Send a transaction\n",
    "transaction = HashStorage.constructor().buildTransaction(\n",
    "    {\n",
    "        \"gasPrice\": w3.eth.gas_price,\n",
    "        \"chainId\": chain_id,\n",
    "        \"from\": my_address,\n",
    "        \"nonce\": nonce,\n",
    "    }\n",
    ")\n",
    "signed_txn = w3.eth.account.sign_transaction(transaction, private_key=private_key)\n",
    "# send this signed transaction\n",
    "print(\"Deploying contract...\")\n",
    "tx_hash = w3.eth.send_raw_transaction(\n",
    "    signed_txn.rawTransaction\n",
    ")  # Can now view this in 'transactions' in ganache\n",
    "# Wait for block confirmation:\n",
    "tx_receipt = w3.eth.wait_for_transaction_receipt(tx_hash)\n",
    "# Get address of smart contract:\n",
    "contract_address = tx_receipt.contractAddress\n",
    "print(\"Deployed!\")"
   ]
  },
  {
   "cell_type": "markdown",
   "id": "bc3f42b1-3810-4ce3-bafb-fcff837f9714",
   "metadata": {},
   "source": [
    "### Step 4 - Update .env File with New Contract Address"
   ]
  },
  {
   "cell_type": "code",
   "execution_count": null,
   "id": "ef48691b-b631-4bca-a242-81ef6e748bc2",
   "metadata": {},
   "outputs": [],
   "source": [
    "file_lines = []\n",
    "with open('.env', 'r') as file:\n",
    "    for line in file:\n",
    "        if 'contract_address' not in line.lower():\n",
    "            file_lines.append(line)\n",
    "with open('.env', 'w') as file:\n",
    "    for line in file_lines:\n",
    "        file.write(line)\n",
    "    file.write('contract_address=' + contract_address)"
   ]
  },
  {
   "cell_type": "code",
   "execution_count": null,
   "id": "195a20da-5474-486c-83d5-dd1572320834",
   "metadata": {},
   "outputs": [],
   "source": [
    "end = datetime.datetime.now()\n",
    "print('Total execution time: {}'.format(str(end-start)))"
   ]
  }
 ],
 "metadata": {
  "kernelspec": {
   "display_name": "Python 3 (ipykernel)",
   "language": "python",
   "name": "python3"
  },
  "language_info": {
   "codemirror_mode": {
    "name": "ipython",
    "version": 3
   },
   "file_extension": ".py",
   "mimetype": "text/x-python",
   "name": "python",
   "nbconvert_exporter": "python",
   "pygments_lexer": "ipython3"
  }
 },
 "nbformat": 4,
 "nbformat_minor": 5
}
