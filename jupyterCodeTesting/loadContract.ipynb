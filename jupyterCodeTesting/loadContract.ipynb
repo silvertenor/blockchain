{
 "cells": [
  {
   "cell_type": "markdown",
   "id": "78cc851f-750f-4f5b-9847-82ebda551ce3",
   "metadata": {},
   "source": [
    "# Loading our Deployed Contract Into Memory\n",
    "<hr/>"
   ]
  },
  {
   "cell_type": "markdown",
   "id": "08ef0e46-f840-4f6f-a69e-6a8c75c5193b",
   "metadata": {},
   "source": [
    "## Load Contract Info from JSON File"
   ]
  },
  {
   "cell_type": "code",
   "execution_count": null,
   "id": "4ffb6181-625e-4ad2-a569-242098e21545",
   "metadata": {},
   "outputs": [],
   "source": [
    "# Save compiled code to JSON file\n",
    "with open(\"compiled_code.json\", \"r\") as file:\n",
    "    contractInfo = json.load(file)\n",
    "    \n",
    "# Deploy file Prereqs\n",
    "# Get bytecode\n",
    "bytecode = contractInfo[\"contracts\"][\"DataTracker.sol\"][\"DataTracker\"][\"evm\"][\"bytecode\"][\"object\"]\n",
    "\n",
    "# get abi\n",
    "abi = contractInfo[\"contracts\"][\"DataTracker.sol\"][\"DataTracker\"][\"abi\"]"
   ]
  },
  {
   "cell_type": "markdown",
   "id": "897766af-c35a-40e4-adcc-bdd7c10c1c23",
   "metadata": {},
   "source": [
    "## Set up Blockchain Connection and Load Contract"
   ]
  },
  {
   "cell_type": "code",
   "execution_count": null,
   "id": "163f2eaf-c886-419d-8196-97173700815d",
   "metadata": {},
   "outputs": [],
   "source": [
    "w3 = Web3(\n",
    "    Web3.HTTPProvider(\"HTTP://127.0.0.1:7545\")\n",
    ")  # Get this address from RPC provider in ganache GUI\n",
    "chain_id = 1337  # From Network ID of ganache GUI\n",
    "my_address = os.getenv(\"PUBLIC_KEY\")  # address to deploy from - one of fake accounts in GUI\n",
    "private_key = os.getenv(\"PRIVATE_KEY\")  # From key symbol next to account\n",
    "contract_address = os.getenv(\"contract_address\") # our contract's address\n",
    "dtContract = w3.eth.contract(address=contract_address, abi=abi) # our contract"
   ]
  }
 ],
 "metadata": {
  "kernelspec": {
   "display_name": "Python 3 (ipykernel)",
   "language": "python",
   "name": "python3"
  },
  "language_info": {
   "codemirror_mode": {
    "name": "ipython",
    "version": 3
   },
   "file_extension": ".py",
   "mimetype": "text/x-python",
   "name": "python",
   "nbconvert_exporter": "python",
   "pygments_lexer": "ipython3",
   "version": "3.9.13"
  }
 },
 "nbformat": 4,
 "nbformat_minor": 5
}
