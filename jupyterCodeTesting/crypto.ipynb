{
 "cells": [
  {
   "cell_type": "markdown",
   "id": "931dc8ae-3491-43a1-a186-41187676986c",
   "metadata": {},
   "source": [
    "# Demonstrate encryption/decryption with key"
   ]
  },
  {
   "cell_type": "code",
   "execution_count": 1,
   "id": "a2bf89c4-4b48-4074-ac93-f29eda67374a",
   "metadata": {},
   "outputs": [
    {
     "data": {
      "text/plain": [
       "b'gAAAAABjWYLTPj7SJNKuLUX-ssMNLHpNTrgIgylDAnh5BQslxa5uPU2XRd4INWf3qeamyeTVazvWeKb-406vmuUMPKsQfjS34g=='"
      ]
     },
     "metadata": {},
     "output_type": "display_data"
    },
    {
     "data": {
      "text/plain": [
       "'Test'"
      ]
     },
     "metadata": {},
     "output_type": "display_data"
    }
   ],
   "source": [
    "from cryptography.fernet import Fernet\n",
    "# Generate our key\n",
    "key = Fernet.generate_key()\n",
    "# Save the key to disk\n",
    "with open('mykey.key', 'wb') as mykey:\n",
    "    mykey.write(key)\n",
    "    \n",
    "# Read the key\n",
    "with open('mykey.key', 'rb') as mykey:\n",
    "    key = mykey.read()\n",
    "    \n",
    "# encrypt with key:\n",
    "f = Fernet(key)\n",
    "\n",
    "encrypted = f.encrypt(bytes('Test', 'utf-8'))\n",
    "decrypted = f.decrypt(encrypted)\n",
    "display(encrypted)\n",
    "display(decrypted.decode())"
   ]
  }
 ],
 "metadata": {
  "kernelspec": {
   "display_name": "Python 3 (ipykernel)",
   "language": "python",
   "name": "python3"
  },
  "language_info": {
   "codemirror_mode": {
    "name": "ipython",
    "version": 3
   },
   "file_extension": ".py",
   "mimetype": "text/x-python",
   "name": "python",
   "nbconvert_exporter": "python",
   "pygments_lexer": "ipython3",
   "version": "3.9.13"
  }
 },
 "nbformat": 4,
 "nbformat_minor": 5
}
