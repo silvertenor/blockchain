{
 "cells": [
  {
   "cell_type": "markdown",
   "id": "9192f903-c248-436e-9abf-f05fb7c7cfbf",
   "metadata": {},
   "source": [
    "# fileParser.ipynb\n",
    "This notebook parses all log files in the ```logfiles``` as binary and prints out the corresponding hash. Building block of the web3.py module which will interact with the blockchain."
   ]
  },
  {
   "cell_type": "code",
   "execution_count": null,
   "id": "056d3d94-6ba7-4334-9b52-940e161b1b17",
   "metadata": {},
   "outputs": [],
   "source": [
    "# ./fileParser.ipynb\n",
    "import os\n",
    "import hashlib\n",
    "\n",
    "# Constants\n",
    "LOG_TXT_PATH = 'logfiles/workstationLog.txt'\n",
    "DEVICE_XML_PATH = 'logfiles/Device.xml'\n",
    "MAKO_TCW_PATH = 'logfiles/makoTest2.tcw'"
   ]
  },
  {
   "cell_type": "markdown",
   "id": "69ebe460-195f-410c-977b-a88a2c39dff3",
   "metadata": {},
   "source": [
    "## Demonstrate the file read function"
   ]
  },
  {
   "cell_type": "code",
   "execution_count": null,
   "id": "2ed9221a-0dbf-4065-a325-b59b5654a932",
   "metadata": {},
   "outputs": [],
   "source": [
    "with open(LOG_TXT_PATH, \"r\") as f:\n",
    "    for line in f.readlines():\n",
    "        print(line)"
   ]
  },
  {
   "cell_type": "markdown",
   "id": "888d5c1a-cbf2-4155-b236-c4e3025946e0",
   "metadata": {},
   "source": [
    "## Parse Files for Metadata\n",
    "<hr>"
   ]
  },
  {
   "cell_type": "code",
   "execution_count": null,
   "id": "d2931711-27a6-4cf6-b9a2-4c984f3e510a",
   "metadata": {},
   "outputs": [],
   "source": [
    "# Go through log files:\n",
    "from dateutil.parser import parse\n",
    "\n",
    "# Gather pertinent info from log file\n",
    "computer_name = None\n",
    "config_pushed = False\n",
    "config_complete = None\n",
    "with open(LOG_TXT_PATH, 'r') as file:\n",
    "    for line in file.readlines():\n",
    "        # print(line)\n",
    "        # Extract computer name\n",
    "        if 'desktop' in line.lower() and '.' not in line:\n",
    "            computer_name = line.split(' ')[-1]\n",
    "        if 'starting publish' in line.lower():\n",
    "            pass# print(line)\n",
    "        if 'download complete' in line.lower():\n",
    "            # print(line)\n",
    "            config_pushed = True\n",
    "            config_complete = parse(line[:line.index(',')])\n",
    "if computer_name and config_pushed:          \n",
    "    print('Computer name: ' + computer_name)\n",
    "    print('Configuration changed on: ' + str(config_complete))"
   ]
  },
  {
   "cell_type": "code",
   "execution_count": null,
   "id": "f21106e0-d238-4809-98b2-ae321397a413",
   "metadata": {},
   "outputs": [],
   "source": [
    "# Go through Device.xml\n",
    "import xml.etree.ElementTree as ET\n",
    "\n",
    "tree = ET.parse(DEVICE_XML_PATH)\n",
    "root = tree.getroot()\n",
    "print('All Enabled IP addresses associated with this machine:')\n",
    "for child in root.findall('./NetworkAdapters/MarkVIeNetworkAdapter'):\n",
    "    if child.attrib['Enabled'] == 'true':\n",
    "        print(child.attrib['IPAddress'])"
   ]
  },
  {
   "cell_type": "code",
   "execution_count": null,
   "id": "5212e3a4-9d88-4525-b160-4790b8512031",
   "metadata": {},
   "outputs": [],
   "source": [
    "# Go through .tcw file\n",
    "tree = ET.parse(MAKO_TCW_PATH)\n",
    "root = tree.getroot()\n",
    "root.tag\n",
    "for child in root.findall('./System/TssSettings'):\n",
    "    for attribute in child.attrib:\n",
    "        print(attribute + ': ' + child.attrib[attribute])"
   ]
  },
  {
   "cell_type": "markdown",
   "id": "bcd975cb-bbad-40c3-b866-79279b455910",
   "metadata": {},
   "source": [
    "## Hash all file types\n",
    "<hr/>"
   ]
  },
  {
   "cell_type": "markdown",
   "id": "171b7d13-5d25-49dc-b33d-8b459053d87c",
   "metadata": {},
   "source": [
    "Define function for repetitive task:"
   ]
  },
  {
   "cell_type": "code",
   "execution_count": null,
   "id": "9b51561d-018a-4065-a967-52714ff51fc7",
   "metadata": {},
   "outputs": [],
   "source": [
    "# Read file in chunks (future-proofing) and generate hash:\n",
    "def hashGenerator(file, buffer_size = 65536):\n",
    "    file_hash = hashlib.sha256()\n",
    "    # Read file as binary\n",
    "    with open(file, 'rb') as f:\n",
    "        chunk = f.read(buffer_size)\n",
    "        # Keep reading and updating hash as long as there is more data:\n",
    "        while len(chunk) > 0:\n",
    "            file_hash.update(chunk)\n",
    "            chunk = f.read(buffer_size)\n",
    "    return file_hash"
   ]
  },
  {
   "cell_type": "code",
   "execution_count": null,
   "id": "5f593d00-41a7-4b37-8074-29b6ca3b600f",
   "metadata": {},
   "outputs": [],
   "source": [
    "# Get Device.xml hash\n",
    "device_hash = hashGenerator(DEVICE_XML_PATH)\n",
    "print(\"Hash of Device.xml: \" + device_hash.hexdigest())\n",
    "\n",
    "# Demonstrate that file extension doesn't matter with binary read:\n",
    "device_hash = hashGenerator('logfiles/Device-Copy1')\n",
    "print(\"Hash of Device-Copy1: \" + device_hash.hexdigest())\n",
    "\n",
    "\n",
    "# Get makoTest2.tcw hash\n",
    "mako_hash = hashGenerator(MAKO_TCW_PATH)\n",
    "print('Hash of makoTest2.tcw: ' + mako_hash.hexdigest())\n",
    "\n",
    "# get workstationLog.txt hash (formerly long filename)\n",
    "workstation_log_hash = hashGenerator(LOG_TXT_PATH)\n",
    "print('Hash of workstationLog.txt: ' + workstation_log_hash.hexdigest())"
   ]
  },
  {
   "cell_type": "code",
   "execution_count": null,
   "id": "c83b4571-3c8d-45d8-8831-237e1fced0b8",
   "metadata": {},
   "outputs": [],
   "source": [
    "# timestamp+hash -> encryption w/ PK -> store with metadata"
   ]
  }
 ],
 "metadata": {
  "kernelspec": {
   "display_name": "Python 3 (ipykernel)",
   "language": "python",
   "name": "python3"
  },
  "language_info": {
   "codemirror_mode": {
    "name": "ipython",
    "version": 3
   },
   "file_extension": ".py",
   "mimetype": "text/x-python",
   "name": "python",
   "nbconvert_exporter": "python",
   "pygments_lexer": "ipython3"
  },
  "vscode": {
   "interpreter": {
    "hash": "a0bc5c0b5b437fd2e6c874fc3a6384df2b98907645f0b344664d69a019f5d7ae"
   }
  }
 },
 "nbformat": 4,
 "nbformat_minor": 5
}
