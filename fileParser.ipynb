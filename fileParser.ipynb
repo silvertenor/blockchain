{
 "cells": [
  {
   "cell_type": "markdown",
   "id": "9192f903-c248-436e-9abf-f05fb7c7cfbf",
   "metadata": {},
   "source": [
    "# fileParser.ipynb\n",
    "This notebook parses all log files in the ```logfiles``` as binary and prints out the corresponding hash. Building block of the web3.py module which will interact with the blockchain."
   ]
  },
  {
   "cell_type": "code",
   "execution_count": null,
   "id": "056d3d94-6ba7-4334-9b52-940e161b1b17",
   "metadata": {},
   "outputs": [],
   "source": [
    "# ./fileParser.ipynb\n",
    "import os\n",
    "import hashlib"
   ]
  },
  {
   "cell_type": "markdown",
   "id": "69ebe460-195f-410c-977b-a88a2c39dff3",
   "metadata": {},
   "source": [
    "## Demonstrate the file read function"
   ]
  },
  {
   "cell_type": "code",
   "execution_count": null,
   "id": "2ed9221a-0dbf-4065-a325-b59b5654a932",
   "metadata": {},
   "outputs": [],
   "source": [
    "with open(\"logfiles/workstationLog.txt\", \"r\") as f:\n",
    "    for line in f.readlines():\n",
    "        print(line)"
   ]
  },
  {
   "cell_type": "markdown",
   "id": "8d1178d2-43c9-492d-af54-560531f92860",
   "metadata": {},
   "source": [
    "## Demonstrate hashing of all file types\n",
    "<hr/>"
   ]
  },
  {
   "cell_type": "markdown",
   "id": "7f8dc231-a43b-45cb-8e45-f2358d6fdaf7",
   "metadata": {},
   "source": [
    "Define function for repetitive task:"
   ]
  },
  {
   "cell_type": "code",
   "execution_count": null,
   "id": "9b51561d-018a-4065-a967-52714ff51fc7",
   "metadata": {},
   "outputs": [],
   "source": [
    "# Read file in chunks (future-proofing) and generate hash:\n",
    "def hashGenerator(file, buffer_size = 65536):\n",
    "    file_hash = hashlib.sha256()\n",
    "    # Read file as binary\n",
    "    with open(file, 'rb') as f:\n",
    "        chunk = f.read(buffer_size)\n",
    "        # Keep reading and updating hash as long as there is more data:\n",
    "        while len(chunk) > 0:\n",
    "            file_hash.update(chunk)\n",
    "            chunk = f.read(buffer_size)\n",
    "    return file_hash"
   ]
  },
  {
   "cell_type": "code",
   "execution_count": null,
   "id": "5f593d00-41a7-4b37-8074-29b6ca3b600f",
   "metadata": {},
   "outputs": [],
   "source": [
    "# Get Device.xml hash\n",
    "device_hash = hashGenerator('logfiles/Device.xml')\n",
    "print(\"Hash of Device.xml: \" + device_hash.hexdigest())\n",
    "\n",
    "# Get makoTest2.tcw hash\n",
    "mako_hash = hashGenerator('logfiles/makoTest2.tcw')\n",
    "print('Hash of makoTest2.tcw: ' + mako_hash.hexdigest())\n",
    "\n",
    "# get workstationLog.txt hash (formerly long filename)\n",
    "workstation_log_hash = hashGenerator('logfiles/workstationLog.txt')\n",
    "print('Hash of workstationLog.txt: ' + workstation_log_hash.hexdigest())"
   ]
  }
 ],
 "metadata": {
  "kernelspec": {
   "display_name": "Python 3 (ipykernel)",
   "language": "python",
   "name": "python3"
  },
  "language_info": {
   "codemirror_mode": {
    "name": "ipython",
    "version": 3
   },
   "file_extension": ".py",
   "mimetype": "text/x-python",
   "name": "python",
   "nbconvert_exporter": "python",
   "pygments_lexer": "ipython3",
   "version": "3.9.13"
  }
 },
 "nbformat": 4,
 "nbformat_minor": 5
}
