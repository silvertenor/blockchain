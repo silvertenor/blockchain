{
 "cells": [
  {
   "cell_type": "code",
   "execution_count": null,
   "id": "cf1cd2d9-311c-4bec-af3c-387581795746",
   "metadata": {},
   "outputs": [],
   "source": [
    "import diff_match_patch as dmpModule"
   ]
  },
  {
   "cell_type": "code",
   "execution_count": 117,
   "id": "d3b8e598-7289-40d7-a261-534fedd46aab",
   "metadata": {},
   "outputs": [],
   "source": [
    "\n",
    "from web3 import Web3\n",
    "from dotenv import load_dotenv, find_dotenv, set_key\n",
    "import os\n",
    "import json\n",
    "import logging\n",
    "import zlib\n",
    "import base64\n",
    "os.environ['basedir'] = os.getcwd()\n",
    "basedir = os.environ['basedir']\n",
    "logging.info(\"Looking for .env file to load in variables...\")\n",
    "try:\n",
    "\n",
    "    load_dotenv(os.path.join(os.environ[\"basedir\"], \"source\", \".env\"), override=True)\n",
    "    # project_root = os.getenv(\"PROJECT_ROOT\")  # To change in next step\n",
    "    # os.chdir(project_root)\n",
    "    # load secrets\n",
    "    os.environ[\"my_address\"] = os.getenv(\n",
    "        \"ACCOUNT_ADDRESS\"\n",
    "    )  # address to deploy from - one of fake accounts in GUI\n",
    "    private_key = os.getenv(\"PRIVATE_KEY\")  # From key symbol next to account\n",
    "    w3 = Web3(\n",
    "        Web3.HTTPProvider(os.getenv(\"WEB3_PROVIDER\"))\n",
    "    )  # Get this address from RPC provider in ganache GUI\n",
    "    chain_id = int(os.getenv(\"CHAIN_ID\"))  # From Network ID of ganache GUI\n",
    "    try:\n",
    "        os.environ[\"contract_address\"] = os.getenv(\n",
    "            \"CONTRACT_ADDRESS\"\n",
    "        )  # our contract's address\n",
    "        os.environ[\"last_tx\"] = os.getenv(\"LAST_TX\")  # Most recent tx\n",
    "        os.environ[\"contract_tx\"] = os.getenv(\"CONTRACT_TX\")\n",
    "        os.environ['file_tx'] = os.getenv('FILE_TX')\n",
    "    # Change to proper working directory\n",
    "    except Exception as e:\n",
    "        print(e)\n",
    "        \n",
    "\n",
    "except Exception as e:\n",
    "    print(e)\n",
    "    logging.error(\n",
    "        \"Could not find certain environment variables. Please make sure .env is up to date.\"\n",
    "    )\n",
    "    # logging.error('Error')\n"
   ]
  },
  {
   "cell_type": "code",
   "execution_count": 118,
   "id": "9cc94383-d9f3-4399-845d-e57a44acec21",
   "metadata": {},
   "outputs": [],
   "source": [
    "with open(os.path.join(basedir, \"source\", \"compiled_code.json\"), \"r\") as file:\n",
    "    contractInfo = json.load(file)\n",
    "\n",
    "# Deploy file Prereqs\n",
    "# Get bytecode\n",
    "bytecode = contractInfo[\"contracts\"][\"DataTracker.sol\"][\"DataTracker\"][\"evm\"][\n",
    "    \"bytecode\"\n",
    "][\"object\"]\n",
    "\n",
    "# get abi and load contract into memory\n",
    "abi = contractInfo[\"contracts\"][\"DataTracker.sol\"][\"DataTracker\"][\"abi\"]\n",
    "os.environ[\"abi\"] = json.dumps(abi)\n",
    "try:\n",
    "    dtContract = w3.eth.contract(\n",
    "        address=os.environ[\"contract_address\"], abi=abi\n",
    "    )  # our contract\n",
    "except Exception as e:\n",
    "    print(e)"
   ]
  },
  {
   "cell_type": "code",
   "execution_count": 126,
   "id": "d8dd4f24-8627-44cb-9ecc-ea92904ac02d",
   "metadata": {},
   "outputs": [],
   "source": [
    "blockNumLastTx = w3.eth.get_transaction(os.environ[\"last_tx\"])[\"blockNumber\"]"
   ]
  },
  {
   "cell_type": "code",
   "execution_count": 127,
   "id": "4687d77e-3f18-4f9d-94f1-800e4cf4a35a",
   "metadata": {},
   "outputs": [
    {
     "data": {
      "text/plain": [
       "1101"
      ]
     },
     "execution_count": 127,
     "metadata": {},
     "output_type": "execute_result"
    }
   ],
   "source": [
    "blockNumLastTx"
   ]
  },
  {
   "cell_type": "code",
   "execution_count": 128,
   "id": "26a30b64-f43d-40b6-b63a-cbf84362cbce",
   "metadata": {},
   "outputs": [],
   "source": [
    "blockNumFile = w3.eth.get_transaction(os.environ['file_tx'])['blockNumber']"
   ]
  },
  {
   "cell_type": "code",
   "execution_count": 129,
   "id": "43e3a1e9-c6e8-4c93-81b0-0c02512aaffd",
   "metadata": {},
   "outputs": [
    {
     "data": {
      "text/plain": [
       "1098"
      ]
     },
     "execution_count": 129,
     "metadata": {},
     "output_type": "execute_result"
    }
   ],
   "source": [
    "blockNumFile"
   ]
  },
  {
   "cell_type": "code",
   "execution_count": 130,
   "id": "096db346-a36c-4b9b-91eb-0542db891487",
   "metadata": {},
   "outputs": [
    {
     "name": "stdout",
     "output_type": "stream",
     "text": [
      "677\n",
      "663\n",
      "654\n"
     ]
    }
   ],
   "source": [
    "diffs = []\n",
    "for i in range(blockNumLastTx, blockNumFile, -1):\n",
    "    toContract = w3.eth.get_transaction_by_block(i, 0)[\"to\"]\n",
    "    if toContract == dtContract.address:\n",
    "        pvsTx = w3.eth.get_block(i)[\"transactions\"][0].hex()\n",
    "        # print(previousTxHash)\n",
    "        tx = w3.eth.get_transaction(pvsTx)\n",
    "# try:\n",
    "        obj, params = dtContract.decode_function_input(tx[\"input\"])\n",
    "        params[\"_configChanged\"] = decrypt(params[\"_configChanged\"])\n",
    "        params[\"_userID\"] = decrypt(params[\"_userID\"])\n",
    "        params[\"_domain\"] = decrypt(params[\"_domain\"])\n",
    "        params[\"_fileDiff\"] = zlib.decompress(\n",
    "            base64.urlsafe_b64decode(params[\"_fileDiff\"])\n",
    "        )\n",
    "        # print(params['_fileDiff'])\n",
    "        pvsTx = params[\"_previousTx\"]\n",
    "        diffs.append(params['_fileDiff'])\n",
    "i = 1\n",
    "for diff in diffs:\n",
    "    print(len(diff))\n",
    "    hist = dmp.patch_apply(dmp.patch_fromText(diff.decode()), old)[0]\n",
    "    with open('Device-xml-patch-{}'.format(i), 'w') as file:\n",
    "        file.write(hist)\n",
    "    i += 1\n",
    "    diffs = dmp.diff_main(old, hist)\n",
    "    dmp.diff_cleanupEfficiency(diffs)\n",
    "    html = dmp.diff_prettyHtml(diffs)\n",
    "    display(HTML(html))"
   ]
  },
  {
   "cell_type": "code",
   "execution_count": null,
   "id": "403caed7-0258-4190-8eda-567f1751683c",
   "metadata": {},
   "outputs": [],
   "source": [
    "dmp.diff_prettyHtml(diffs)"
   ]
  },
  {
   "cell_type": "code",
   "execution_count": null,
   "id": "9cf58bb1-43d9-499a-8140-6c7136b1e186",
   "metadata": {},
   "outputs": [],
   "source": [
    "history = []\n",
    "\n",
    "from source.modules.updateChain import decrypt\n",
    "while pvsTx:\n",
    "    tx = w3.eth.get_transaction(pvsTx)\n",
    "# try:\n",
    "    obj, params = dtContract.decode_function_input(tx[\"input\"])\n",
    "    params[\"_configChanged\"] = decrypt(params[\"_configChanged\"])\n",
    "    params[\"_userID\"] = decrypt(params[\"_userID\"])\n",
    "    params[\"_domain\"] = decrypt(params[\"_domain\"])\n",
    "    params[\"_fileDiff\"] = zlib.decompress(\n",
    "        base64.urlsafe_b64decode(params[\"_fileDiff\"])\n",
    "    )\n",
    "    print(params['_fileDiff'])\n",
    "    pvsTx = params[\"_previousTx\"]\n",
    "    history.append(params)"
   ]
  },
  {
   "cell_type": "code",
   "execution_count": null,
   "id": "cc428d90-5c28-45e1-b2a4-91de288c8eb6",
   "metadata": {},
   "outputs": [],
   "source": []
  }
 ],
 "metadata": {
  "kernelspec": {
   "display_name": "Python 3 (ipykernel)",
   "language": "python",
   "name": "python3"
  },
  "language_info": {
   "codemirror_mode": {
    "name": "ipython",
    "version": 3
   },
   "file_extension": ".py",
   "mimetype": "text/x-python",
   "name": "python",
   "nbconvert_exporter": "python",
   "pygments_lexer": "ipython3",
   "version": "3.9.13"
  }
 },
 "nbformat": 4,
 "nbformat_minor": 5
}
