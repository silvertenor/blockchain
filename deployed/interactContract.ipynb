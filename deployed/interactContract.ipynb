{
 "cells": [
  {
   "cell_type": "markdown",
   "id": "78cc851f-750f-4f5b-9847-82ebda551ce3",
   "metadata": {},
   "source": [
    "# Interaction of Parsed Data, Hashes, and Deployed Contracts\n",
    "<hr/>"
   ]
  },
  {
   "cell_type": "code",
   "execution_count": null,
   "id": "906f4ec9-8e05-424e-a9c2-70b86b4de9bb",
   "metadata": {},
   "outputs": [],
   "source": [
    "# web3.../deploy.py\n",
    "import json\n",
    "from web3 import Web3\n",
    "from dotenv import load_dotenv\n",
    "import os\n",
    "\n",
    "# load from .env file\n",
    "load_dotenv()"
   ]
  },
  {
   "cell_type": "code",
   "execution_count": null,
   "id": "4ffb6181-625e-4ad2-a569-242098e21545",
   "metadata": {},
   "outputs": [],
   "source": [
    "# Save compiled code to JSON file\n",
    "with open(\"compiled_code.json\", \"r\") as file:\n",
    "    contractInfo = json.load(file)\n",
    "    \n",
    "# Deploy file Prereqs\n",
    "# Get bytecode\n",
    "bytecode = contractInfo[\"contracts\"][\"HashStorage.sol\"][\"HashStorage\"][\"evm\"][\"bytecode\"][\"object\"]\n",
    "\n",
    "# get abi\n",
    "abi = contractInfo[\"contracts\"][\"HashStorage.sol\"][\"HashStorage\"][\"abi\"]"
   ]
  },
  {
   "cell_type": "markdown",
   "id": "897766af-c35a-40e4-adcc-bdd7c10c1c23",
   "metadata": {},
   "source": [
    "### Step 2 - Set up Blockchain Connection"
   ]
  },
  {
   "cell_type": "code",
   "execution_count": null,
   "id": "163f2eaf-c886-419d-8196-97173700815d",
   "metadata": {},
   "outputs": [],
   "source": [
    "w3 = Web3(\n",
    "    Web3.HTTPProvider(\"HTTP://127.0.0.1:7545\")\n",
    ")  # Get this address from RPC provider in ganache GUI\n",
    "chain_id = 1337  # From Network ID of ganache GUI\n",
    "my_address = os.getenv(\"PUBLIC_KEY\")  # address to deploy from - one of fake accounts in GUI\n",
    "private_key = os.getenv(\"PRIVATE_KEY\")  # From key symbol next to account\n",
    "# print(private_key)\n",
    "### BETTER - use os.getenv(\"PRIVATE_KEY\") where private key is stored as environment variable. Can also store in .env file"
   ]
  },
  {
   "cell_type": "code",
   "execution_count": null,
   "id": "4a49f3a7-076a-4e06-8e6f-eafadfaadf81",
   "metadata": {},
   "outputs": [],
   "source": [
    "# Now we have all parameters we need to interact with Ganache local chain\n",
    "# Get latest transaction:\n",
    "nonce = w3.eth.getTransactionCount(\n",
    "    my_address\n",
    ")  # gives our nonce - number of transactions"
   ]
  },
  {
   "cell_type": "markdown",
   "id": "530d4f90-a4df-4aa8-98af-33b73c6ea610",
   "metadata": {},
   "source": [
    "### Step 4 - Interact with Smart Contract"
   ]
  },
  {
   "cell_type": "code",
   "execution_count": null,
   "id": "b586ebcf-64d8-488b-b646-9ccec85469db",
   "metadata": {},
   "outputs": [],
   "source": [
    "# How do we interact and work with the contract?\n",
    "# Need\n",
    "# 1. Contract address\n",
    "# 2. Contract ABI\n",
    "contract_address = os.getenv(\"contract_address\")\n",
    "hash_storage = w3.eth.contract(address=contract_address, abi=abi)\n",
    "# Now we can interact with our contract with a call or a transact\n",
    "# Call -> simulate making the call and getting the return value (no state change to blockchain)\n",
    "# Transact -> actually make a state change (have to build & send transaction)\n",
    "\n",
    "# initial value of hashNumber:\n",
    "print(\n",
    "    \"Current value of favorite number: \"\n",
    "    + str(hash_storage.functions.retrieve().call())\n",
    ")  # No state change!\n",
    "\n",
    "print(\"Updating contract...\")\n",
    "# Store new value for hashNumber:\n",
    "store_transaction = hash_storage.functions.store(\"0x9999\").build_transaction(\n",
    "    {\n",
    "        \"gasPrice\": w3.eth.gas_price,\n",
    "        \"chainId\": chain_id,\n",
    "        \"from\": my_address,\n",
    "        \"nonce\": nonce,\n",
    "    }\n",
    ")\n",
    "signed_store_tx = w3.eth.account.sign_transaction(\n",
    "    store_transaction, private_key=private_key\n",
    ")\n",
    "send_store_tx = w3.eth.send_raw_transaction(signed_store_tx.rawTransaction)\n",
    "tx_receipt = w3.eth.wait_for_transaction_receipt(send_store_tx)\n",
    "print(\"Updated!\")\n",
    "print(\n",
    "    \"New value of favorite number: \" + str(hash_storage.functions.retrieve().call())\n",
    ")"
   ]
  }
 ],
 "metadata": {
  "kernelspec": {
   "display_name": "Python 3 (ipykernel)",
   "language": "python",
   "name": "python3"
  },
  "language_info": {
   "codemirror_mode": {
    "name": "ipython",
    "version": 3
   },
   "file_extension": ".py",
   "mimetype": "text/x-python",
   "name": "python",
   "nbconvert_exporter": "python",
   "pygments_lexer": "ipython3"
  }
 },
 "nbformat": 4,
 "nbformat_minor": 5
}
