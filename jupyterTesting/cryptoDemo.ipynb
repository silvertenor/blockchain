{
 "cells": [
  {
   "cell_type": "code",
   "execution_count": 4,
   "id": "3402a416-9348-462d-87e1-99d2ef6557da",
   "metadata": {},
   "outputs": [
    {
     "name": "stdout",
     "output_type": "stream",
     "text": [
      "Encrypted Text:\n"
     ]
    },
    {
     "data": {
      "text/plain": [
       "b'gAAAAABjj6fNrp0zzTRy44chh9Xctej_9311kdL1R14JNeced0O5mnZZd3NRw7dlWf3JirELuprTaypMT-0YIV1a0RCpup8gyg=='"
      ]
     },
     "metadata": {},
     "output_type": "display_data"
    },
    {
     "name": "stdout",
     "output_type": "stream",
     "text": [
      "\n",
      "\n",
      "Decrypted Text:\n"
     ]
    },
    {
     "data": {
      "text/plain": [
       "'Test'"
      ]
     },
     "metadata": {},
     "output_type": "display_data"
    }
   ],
   "source": [
    "from cryptography.fernet import Fernet\n",
    "# Generate our key\n",
    "key = Fernet.generate_key()\n",
    "# Save the key to disk\n",
    "with open('mykey.key', 'wb') as mykey:\n",
    "    mykey.write(key)\n",
    "    \n",
    "# Read the key\n",
    "with open('mykey.key', 'rb') as mykey:\n",
    "    key = mykey.read()\n",
    "    \n",
    "# encrypt with key:\n",
    "f = Fernet(key)\n",
    "\n",
    "encrypted = f.encrypt(bytes('Test', 'utf-8'))\n",
    "decrypted = f.decrypt(encrypted)\n",
    "print('Encrypted Text:')\n",
    "display(encrypted)\n",
    "print('\\n\\nDecrypted Text:')\n",
    "display(decrypted.decode())"
   ]
  },
  {
   "cell_type": "code",
   "execution_count": null,
   "id": "6a67c866-5539-43c9-bc13-2b72c31a0193",
   "metadata": {},
   "outputs": [],
   "source": []
  }
 ],
 "metadata": {
  "kernelspec": {
   "display_name": "Python 3 (ipykernel)",
   "language": "python",
   "name": "python3"
  },
  "language_info": {
   "codemirror_mode": {
    "name": "ipython",
    "version": 3
   },
   "file_extension": ".py",
   "mimetype": "text/x-python",
   "name": "python",
   "nbconvert_exporter": "python",
   "pygments_lexer": "ipython3",
   "version": "3.9.13"
  }
 },
 "nbformat": 4,
 "nbformat_minor": 5
}
