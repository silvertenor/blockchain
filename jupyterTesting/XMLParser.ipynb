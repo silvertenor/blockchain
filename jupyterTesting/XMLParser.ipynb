{
 "cells": [
  {
   "cell_type": "code",
   "execution_count": 1,
   "id": "1f8988a5-f1c9-41a2-9192-21528e974899",
   "metadata": {},
   "outputs": [],
   "source": [
    "import diff_match_patch as dmpModule"
   ]
  },
  {
   "cell_type": "code",
   "execution_count": 2,
   "id": "72274032-7a3b-4f0f-8d21-927e5141dc09",
   "metadata": {},
   "outputs": [],
   "source": [
    "dmp = dmpModule.diff_match_patch()"
   ]
  },
  {
   "cell_type": "code",
   "execution_count": 8,
   "id": "de70b24b-85e2-4f29-ae7f-599319c2411f",
   "metadata": {},
   "outputs": [
    {
     "data": {
      "text/plain": [
       "'<?xml version=\"1.0\" encoding=\"utf-8\"?>\\n<?GeCssClass type=\"GeCss.Config.Device.MarkVIeDevice, MarkVIeDeviceConfig\" Version=\"V07.11.00A\" Coherency=\"1800330900\"?>\\n<MarkVIDevice Name=\"mako\" Description=\"\" CreateTime=\"2022-03-01T20:56:16.228571Z\" LastModificationTime=\"2022-07-07T21:06:28.5710028Z\" ControllerBackupOption=\"Automatic\" Redundancy=\"Single\" ProductVersion=\"V07.00.00B\" MajorRev=\"1970-01-01T00:00:00\" MinorRev=\"1970-01-01T00:00:00\" AutoConfigRev=\"2022-05-12T15:58:25\" LastDownloadedMajorRevR=\"2022-05-12T15:58:25\" LastDownloadedMinorRevR=\"2022-07-07T16:13:20\" EnableAutoConfig=\"false\" EnableOPCUAServer=\"true\" FramePeriod=\"40\" BackgroundPeriod=\"0.5\" BuildErrors=\"false\" PlatformChanged=\"false\" Platform=\"IS420UCSCH2A,,\" Application=\"GeneralPurpose\" ProfilerEnabled=\"true\" ProductSubType=\"GeneralPurpose\" EnableWebPages=\"true\" EnableModbusMasterBlockware=\"false\" WebPagePath=\"C:\\\\Users\\\\Colin\\\\Desktop\\\\pages\" CommandEventLogTime=\"14\" CommandEventLogCommandSize=\"80\" CommandEventLogEventSize=\"20\" CommandEventLogInhibitLogging=\"No\" BackupFileCRC=\"0\" EnableDynamicBinding=\"true\" OnlineInitMinorRevR=\"1970-01-01T00:00:00\" EnableAliasDevicePrefix=\"true\" EnableCompressedDataLog=\"false\" CompressedDataLogTime=\"14\" CompressedDataLogAveragingIntervalTime=\"10\" CompressedDataLogSize=\"5\" EnableWindFarmManagementSystem=\"false\" WindFarmManagementServerIPAddress=\"174.113.105.84\" LastBuildNumberBuilt=\"233\" EnableNetworkRouting=\"false\" EnableUnicastNetworkRouting=\"true\" EnableMulticastNetworkRouting=\"true\" EnableBroadcastNetworkRouting=\"false\" SecondaryWindFarmManagementServerIPAddress=\"174.113.105.84\" ReceiveMulticastAddressTC=\"174.113.105.84\" OfflineDownloadRequired=\"true\" IONetRedundancy=\"Simplex\" SecureMode=\"Secure\" WindControlWindTurbineTimeout=\"10\" WindControlMaxWindFarmTurbines=\"200\" WindControlWindFarmUpdatePeriod=\"250\" WindControlWindFarmMasterNumber=\"230\" WindControlEnableGroupMessaging=\"false\" WindControlSendMulticastAddress=\"174.113.105.84\" CustomConfigurationFilesDirectory=\"\" EnableCustomFilesFolderDownload=\"false\" EnableCustomFilesCommonDownload=\"false\" TunnelCBMNeeded=\"false\">\\n\\t<NetworkAdapters>\\n\\t\\t<MarkVIeNetworkAdapter Enabled=\"true\" WireSpeed=\"Auto\" IPAddress=\"255.149.51.66\" HostName=\"mako\" NetworkName=\"UDH\" AdapterNumber=\"0\" NetworkSwitch=\"\" NetworkSwitchPort=\"0\" BackupNetworkSwitch=\"\" BackupNetworkSwitchPort=\"0\" AdapterIsHardwareRedundant=\"false\" HostDeviceIsRedundantCapable=\"false\">\\n\\t\\t\\t<Network Name=\"UDH\" SubnetMask=\"255.255.255.0\" Gateway=\"255.255.255.255\" Scope=\"Unit\" Media=\"Ethernet\" Transport=\"IP\" Description=\"Unit Data Highway\" />\\n\\t\\t</MarkVIeNetworkAdapter>\\n\\t\\t<MarkVIeNetworkAdapter Enabled=\"false\" WireSpeed=\"Auto\" IPAddress=\"253.27.108.142\" AdapterNumber=\"1\" NetworkSwitch=\"\" NetworkSwitchPort=\"0\" BackupNetworkSwitch=\"\" BackupNetworkSwitchPort=\"0\" AdapterIsHardwareRedundant=\"false\" HostDeviceIsRedundantCapable=\"false\" />\\n\\t\\t<MarkVIeNetworkAdapter Enabled=\"true\" WireSpeed=\"Auto\" IPAddress=\"18.133.249.108\" HostName=\"ccmi\" NetworkName=\"IoNet1\" AdapterNumber=\"2\" NetworkSwitch=\"\" NetworkSwitchPort=\"0\" BackupNetworkSwitch=\"\" BackupNetworkSwitchPort=\"0\" AdapterIsHardwareRedundant=\"false\" HostDeviceIsRedundantCapable=\"false\" />\\n\\t\\t<MarkVIeNetworkAdapter Enabled=\"true\" WireSpeed=\"Auto\" IPAddress=\"114.210.243.205\" HostName=\"ccmi\" NetworkName=\"IoNet2\" AdapterNumber=\"3\" NetworkSwitch=\"\" NetworkSwitchPort=\"0\" BackupNetworkSwitch=\"\" BackupNetworkSwitchPort=\"0\" AdapterIsHardwareRedundant=\"false\" HostDeviceIsRedundantCapable=\"false\" />\\n\\t\\t<MarkVIeNetworkAdapter Enabled=\"true\" WireSpeed=\"Auto\" IPAddress=\"248.177.101.23\" HostName=\"ccmi\" NetworkName=\"IoNet3\" AdapterNumber=\"4\" NetworkSwitch=\"\" NetworkSwitchPort=\"0\" BackupNetworkSwitch=\"\" BackupNetworkSwitchPort=\"0\" AdapterIsHardwareRedundant=\"false\" HostDeviceIsRedundantCapable=\"false\" />\\n\\t</NetworkAdapters>\\n\\t<CustomConfigurationFiles />\\n\\t<ZK2188310901404A>AAAEofpH2NFrHrYE2JLM62tMPDb/GUcs6pecf4QNQqjcXX39Vs7UohiQTj5ARkE1p8yyT8UWWk2pDzlRwir6Ey4C3w46ECg7g+lRDx+Whqy8muIXjAAdU0QMQ6iE2F9JfGzpClMU0dJmrtVGo4FZYHFg6P0fs23DRLb13cRHly1HGEc/XLfN5fhsqYL43BRRaQcgbAGCAJSStAVRPraqyipxuhHYebP279P8Qryvzmb2DFnEhCWR8BNvQVx7gjD9t1hdlWK/zmrClDxlpadbtwEWzLgJVmbLLfoeD5T/zUgJ4FGGYHU8z9/XgSczjF0RVRw3dTdhctg7f/2l4BB8jDpP16YrWw4Ex/rW+yaum3yM3LgtZu8WNzGmDW/cDeYCzod6</ZK2188310901404A>\\n\\t<RequisitionInfo RequisitionNumber=\"\" DrawingNumber=\"\" ProcessApplication=\"\" Engineer=\"\" ShopOrderNo=\"\" DMNumber=\"\" SerialNumber=\"\" MachineSize=\"\" IsVisualizationEnabled=\"false\" />\\n\\t<NetworkCommsConfig />\\n\\t<WatchCollection />\\n\\t<ZK2188310901404A>AAAEtPXu1uu9jpZ5RTdlWwfUQZIaxVjFKrXqYSH8QOOLLVgxmuAj0jXz0uQcd2CUXfw3fIYr58i8sjovUIs3vYgeAMQOqVWMtsjaTZMMSAvd6hqE7mDtBHe+nidGD2/0RY1IGCSvI0+zmvSxQWFslZQ+xQ==</ZK2188310901404A>\\n\\t<ControllerRootSymbols NumBools=\"73\" NumInts=\"1\" NumDInts=\"1\" NumReals=\"24\" NumLReals=\"1\" NumUInts=\"21\" NumUDInts=\"3\" NumNovRam=\"1\" TimeOfLastVariableCompress=\"2022-03-01T21:09:08\" TimeOfLastNovRamCompress=\"2022-03-01T21:09:08\" TrueAddress=\"16777260\" FalseAddress=\"16777261\" GoodStatusAddress=\"100663313\" FFStatusDumpingAddress=\"100663314\">\\n\\t\\t<GlobalVariables FileName=\"Variables.xml\" />\\n\\t\\t<AlarmVariables>\\n\\t\\t\\t<Variable Name=\"Alarm.HornSilence\" Description=\"When set to true by application code resets Alarm.Horn\" Scope=\"Global\" DataType=\"BOOL\" Address=\"01000001\" GlobalNamePrefix=\"Full\" />\\n\\t\\t\\t<Variable Name=\"Alarm.Ack\" Description=\"When set true by application code all alarms in the alarm queue will be acknowledged\" Scope=\"Global\" DataType=\"BOOL\" Address=\"01000002\" GlobalNamePrefix=\"Full\" />\\n\\t\\t\\t<Variable Name=\"Alarm.Reset\" Description=\"When set true by application code all alarms that are normal and acknowledged will be reset/removed from the alarm queue\" Scope=\"Global\" DataType=\"BOOL\" Address=\"01000003\" GlobalNamePrefix=\"Full\" />\\n\\t\\t\\t<Variable Name=\"Alarm.Indicator\" Description=\"Set to true when there is at least one alarm in the queue, false when the alarm queue is empty\" Scope=\"Global\" DataType=\"BOOL\" Address=\"01000004\" GlobalNamePrefix=\"Full\" />\\n\\t\\t\\t<Variable Name=\"Alarm.Horn\" Description=\"Set to true every time a new alarm occurs. Can be used to drive physical horn.\" Scope=\"Global\" DataType=\"BOOL\" Address=\"01000005\" GlobalNamePrefix=\"Full\" />\\n\\t\\t\\t<Variable Name=\"Hold.Permissive\" Description=\"Indication of the permissive to hold the turbine sequence\" Scope=\"Global\" DataType=\"BOOL\" Address=\"01000006\" GlobalNamePrefix=\"Full\" />\\n\\t\\t\\t<Variable Name=\"Alarm.ActiveCount\" Description=\"The number of process alarms and FOUNDATION Fieldbus alerts in the controller alarm queue.\" Scope=\"Global\" DataType=\"UINT\" Address=\"06000001\" GlobalNamePrefix=\"Full\" />\\n\\t\\t\\t<Variable Name=\"DefaultGrpInhibit\" Scope=\"Global\" DataType=\"BOOL\" Address=\"01000007\" GlobalNamePrefix=\"Full\" />\\n\\t\\t\\t<Variable Name=\"AlarmSpecialToken\" Scope=\"Global\" DataType=\"UINT\" Address=\"06000002\" GlobalNamePrefix=\"Full\" />\\n\\t\\t\\t<Variable Name=\"Alarm.AckCount\" Description=\"The number of acknowledged process alarms and FOUNDATION Fieldbus alerts in the controller alarm queue.\" Scope=\"Global\" DataType=\"UINT\" Address=\"0600000F\" GlobalNamePrefix=\"Full\" />\\n\\t\\t\\t<Variable Name=\"Alarm.UnAckCount\" Description=\"The number of unacknowledged process alarms and FOUNDATION Fieldbus alerts in the controller alarm queue.\" Scope=\"Global\" DataType=\"UINT\" Address=\"06000010\" GlobalNamePrefix=\"Full\" />\\n\\t\\t</AlarmVariables>\\n\\t</ControllerRootSymbols>\\n\\t<BlockLibraries>\\n\\t\\t<Library Name=\"LegacyBlockLib\" Desc=\"Legacy block library, used for conversion\" Type=\"FunctionLibrary\" BuildVersion=\"200000A\" SupportsRedundantControlSets=\"true\" SupportsOnlineDownload=\"true\" File=\"LegacyBlockLib.dll\" Dir=\"&lt;InstallRoot&gt;MarkVIe\\\\V07.00.00B\\\\LegacyBlockLib\" ImportOnly=\"true\" />\\n\\t\\t<Library Name=\"SFCBlockLib\" Desc=\"Sequential Function Chart (SFC) block library\" Type=\"FunctionLibrary\" BuildVersion=\"200000A\" SupportsRedundantControlSets=\"true\" SupportsOnlineDownload=\"true\" File=\"SFCBlockLib.dll\" Dir=\"&lt;InstallRoot&gt;MarkVIe\\\\V07.00.00B\\\\SFCBlockLib\" ImportOnly=\"true\" />\\n\\t\\t<Library Name=\"StandardBlockLib\" Desc=\"Standard block library – Common for most device types\" Type=\"FunctionLibrary\" BuildVersion=\"200000A\" SupportsRedundantControlSets=\"true\" SupportsOnlineDownload=\"true\" File=\"StandardBlockLib.dll\" Dir=\"&lt;InstallRoot&gt;MarkVIe\\\\V07.00.00B\\\\StandardBlockLib\" ImportOnly=\"true\" />\\n\\t\\t<Library Name=\"DCSBlockLib\" Desc=\"Distributed Control System (DCS) block library\" Type=\"FunctionLibrary\" BuildVersion=\"200000A\" SupportsRedundantControlSets=\"true\" SupportsOnlineDownload=\"true\" File=\"DCSBlockLib.dll\" Dir=\"&lt;InstallRoot&gt;MarkVIe\\\\V07.00.00B\\\\DCSBlockLib\" ImportOnly=\"true\" />\\n\\t\\t<Library Name=\"MarkVBlockLib\" Desc=\"Mark V block library – Common for Mark Ve applications\" Type=\"FunctionLibrary\" BuildVersion=\"200000A\" SupportsRedundantControlSets=\"true\" SupportsOnlineDownload=\"true\" File=\"MarkVBlockLib.dll\" Dir=\"&lt;InstallRoot&gt;MarkVIe\\\\V07.00.00B\\\\MarkVBlockLib\" ImportOnly=\"true\" />\\n\\t\\t<Library Name=\"TurbineBlockLib\" Desc=\"Turbine block library for the Mark VIe controller\" Type=\"FunctionLibrary\" BuildVersion=\"200000A\" SupportsRedundantControlSets=\"true\" SupportsOnlineDownload=\"true\" File=\"TurbineBlockLib.dll\" Dir=\"&lt;InstallRoot&gt;MarkVIe\\\\V07.00.00B\\\\TurbineBlockLib\" ImportOnly=\"true\" />\\n\\t</BlockLibraries>\\n\\t<ExecutionGroups>\\n\\t\\t<ExecutionGroup Name=\"Primary Execution Group\" Core=\"0\" FrameMultiplier=\"1\" />\\n\\t</ExecutionGroups>\\n\\t<ProgramList>\\n\\t\\t<Program Name=\"Prog1\" Type=\"ProgramFile\" File=\"_Prog1.xml\" Unlink=\"false\" ExecutionGroup=\"Primary Execution Group\" />\\n\\t</ProgramList>\\n\\t<DefaultDiagramStyle executionorderheight=\"NaN\" executionorderwidth=\"NaN\" linethickness=\"NaN\" nametextheight=\"NaN\" pinconnectorh=\"NaN\" pinconnectorw=\"NaN\" pinh=\"NaN\" pinw=\"NaN\" scalex=\"NaN\" scaley=\"NaN\" shadowsize=\"NaN\" textmarginx=\"NaN\" textmarginy=\"NaN\" wirethickness=\"NaN\" showpinconnectors=\"false\" hideunusedpins=\"bDefault\" showblockdrawings=\"bDefault\" showwiredconnectiontext=\"bDefault\" showCoordinateBorder=\"bDefault\" showXRefCoordinates=\"bDefault\" showXRefNumber=\"bDefault\" showXRefPinName=\"bDefault\" reorderPins=\"bDefault\" showXRefPage=\"bDefault\" showDescriptionsOnRail=\"bDefault\">\\n\\t\\t<ColorStyle linecolor=\"0\" blockcolor=\"0\" textcolor=\"0\" />\\n\\t\\t<PaperStyle width=\"NaN\" height=\"NaN\" zoom=\"2\" MarginLeft=\"0.3\" MarginTop=\"0.3\" MarginRight=\"10.7\" MarginBottom=\"8.2\" LastSavedMarginLeft=\"0.3\" LastSavedMarginTop=\"0.3\" LastSavedMarginWidth=\"10.4\" LastSavedMarginHeight=\"7.89999962\" Landscape=\"bDefault\" />\\n\\t</DefaultDiagramStyle>\\n\\t<NTPConfig OverrideSystemSettings=\"false\" Mode=\"Disabled\" PrimaryUnicastServer=\"192.168.101.2\" SecondaryUnicastServer=\"255.255.255.255\" />\\n\\t<OverridableLibraryProperties Names=\"\">\\n\\t\\t<ZK2188310901404A>AAAE0rDjJuuGUeJZjC3bwtY/9ScNzmrdqR9AWmn28o1dE3hrCrK97uQNAFOsCCE3XoFM4IAo/jdH2hHtfMiEiMOL2h3nrZk9WJmf1RdiQLpmYtM=</ZK2188310901404A>\\n\\t</OverridableLibraryProperties>\\n\\t<DynamicDataRecorders FileName=\"ddrs.xml\" />\\n\\t<DistributedIO FileName=\"DistributedIO.Xml\" IONetRedundancy=\"Simplex\" HasFoundationFieldbus=\"false\" HasMarkVIMigration=\"false\" />\\n\\t<ModbusSlave FileName=\"ModbusSlave.Xml\" />\\n\\t<ModbusMasterBlockwareConfig KeepAlive=\"10\" CommandResponseTime=\"100\" ConnectionTimeout=\"10\" />\\n\\t<UndrivenConstantsSettings ShowControlConstants=\"true\" ShowAllUndrivenVariables=\"false\" />\\n</MarkVIDevice>test'"
      ]
     },
     "execution_count": 8,
     "metadata": {},
     "output_type": "execute_result"
    }
   ],
   "source": [
    "# Read in log files\n",
    "with open('../source/logfiles/Device.xml', 'r') as file:\n",
    "    new = file.read()\n",
    "\n",
    "with open('../source/logfiles/Device2.xml', 'r') as file:\n",
    "    old = file.read()\n",
    "    \n",
    "old"
   ]
  },
  {
   "cell_type": "code",
   "execution_count": 15,
   "id": "7de88806-7ac7-4515-8633-7853a3734021",
   "metadata": {},
   "outputs": [
    {
     "data": {
      "text/plain": [
       "'@@ -1,5 +1,4 @@\\n-%EF%BB%BF\\n %3C?xm\\n@@ -11141,8 +11141,12 @@\\n IDevice%3E\\n+test\\n'"
      ]
     },
     "execution_count": 15,
     "metadata": {},
     "output_type": "execute_result"
    }
   ],
   "source": [
    "patch = dmp.patch_make(new, old)\n",
    "diff = dmp.patch_toText(patch)\n",
    "diff"
   ]
  },
  {
   "cell_type": "code",
   "execution_count": 12,
   "id": "b9e96b87-b9e7-40b1-8a8d-0271c3cf2ac8",
   "metadata": {},
   "outputs": [],
   "source": [
    "patches = dmp.patch_fromText(diff)\n",
    "new_text, _ = dmp.patch_apply(patches, new)"
   ]
  },
  {
   "cell_type": "code",
   "execution_count": 13,
   "id": "99124da2-5adf-43e1-b6de-e53da7e89952",
   "metadata": {},
   "outputs": [
    {
     "data": {
      "text/plain": [
       "'<?xml version=\"1.0\" encoding=\"utf-8\"?>\\n<?GeCssClass type=\"GeCss.Config.Device.MarkVIeDevice, MarkVIeDeviceConfig\" Version=\"V07.11.00A\" Coherency=\"1800330900\"?>\\n<MarkVIDevice Name=\"mako\" Description=\"\" CreateTime=\"2022-03-01T20:56:16.228571Z\" LastModificationTime=\"2022-07-07T21:06:28.5710028Z\" ControllerBackupOption=\"Automatic\" Redundancy=\"Single\" ProductVersion=\"V07.00.00B\" MajorRev=\"1970-01-01T00:00:00\" MinorRev=\"1970-01-01T00:00:00\" AutoConfigRev=\"2022-05-12T15:58:25\" LastDownloadedMajorRevR=\"2022-05-12T15:58:25\" LastDownloadedMinorRevR=\"2022-07-07T16:13:20\" EnableAutoConfig=\"false\" EnableOPCUAServer=\"true\" FramePeriod=\"40\" BackgroundPeriod=\"0.5\" BuildErrors=\"false\" PlatformChanged=\"false\" Platform=\"IS420UCSCH2A,,\" Application=\"GeneralPurpose\" ProfilerEnabled=\"true\" ProductSubType=\"GeneralPurpose\" EnableWebPages=\"true\" EnableModbusMasterBlockware=\"false\" WebPagePath=\"C:\\\\Users\\\\Colin\\\\Desktop\\\\pages\" CommandEventLogTime=\"14\" CommandEventLogCommandSize=\"80\" CommandEventLogEventSize=\"20\" CommandEventLogInhibitLogging=\"No\" BackupFileCRC=\"0\" EnableDynamicBinding=\"true\" OnlineInitMinorRevR=\"1970-01-01T00:00:00\" EnableAliasDevicePrefix=\"true\" EnableCompressedDataLog=\"false\" CompressedDataLogTime=\"14\" CompressedDataLogAveragingIntervalTime=\"10\" CompressedDataLogSize=\"5\" EnableWindFarmManagementSystem=\"false\" WindFarmManagementServerIPAddress=\"174.113.105.84\" LastBuildNumberBuilt=\"233\" EnableNetworkRouting=\"false\" EnableUnicastNetworkRouting=\"true\" EnableMulticastNetworkRouting=\"true\" EnableBroadcastNetworkRouting=\"false\" SecondaryWindFarmManagementServerIPAddress=\"174.113.105.84\" ReceiveMulticastAddressTC=\"174.113.105.84\" OfflineDownloadRequired=\"true\" IONetRedundancy=\"Simplex\" SecureMode=\"Secure\" WindControlWindTurbineTimeout=\"10\" WindControlMaxWindFarmTurbines=\"200\" WindControlWindFarmUpdatePeriod=\"250\" WindControlWindFarmMasterNumber=\"230\" WindControlEnableGroupMessaging=\"false\" WindControlSendMulticastAddress=\"174.113.105.84\" CustomConfigurationFilesDirectory=\"\" EnableCustomFilesFolderDownload=\"false\" EnableCustomFilesCommonDownload=\"false\" TunnelCBMNeeded=\"false\">\\n\\t<NetworkAdapters>\\n\\t\\t<MarkVIeNetworkAdapter Enabled=\"true\" WireSpeed=\"Auto\" IPAddress=\"255.149.51.66\" HostName=\"mako\" NetworkName=\"UDH\" AdapterNumber=\"0\" NetworkSwitch=\"\" NetworkSwitchPort=\"0\" BackupNetworkSwitch=\"\" BackupNetworkSwitchPort=\"0\" AdapterIsHardwareRedundant=\"false\" HostDeviceIsRedundantCapable=\"false\">\\n\\t\\t\\t<Network Name=\"UDH\" SubnetMask=\"255.255.255.0\" Gateway=\"255.255.255.255\" Scope=\"Unit\" Media=\"Ethernet\" Transport=\"IP\" Description=\"Unit Data Highway\" />\\n\\t\\t</MarkVIeNetworkAdapter>\\n\\t\\t<MarkVIeNetworkAdapter Enabled=\"false\" WireSpeed=\"Auto\" IPAddress=\"253.27.108.142\" AdapterNumber=\"1\" NetworkSwitch=\"\" NetworkSwitchPort=\"0\" BackupNetworkSwitch=\"\" BackupNetworkSwitchPort=\"0\" AdapterIsHardwareRedundant=\"false\" HostDeviceIsRedundantCapable=\"false\" />\\n\\t\\t<MarkVIeNetworkAdapter Enabled=\"true\" WireSpeed=\"Auto\" IPAddress=\"18.133.249.108\" HostName=\"ccmi\" NetworkName=\"IoNet1\" AdapterNumber=\"2\" NetworkSwitch=\"\" NetworkSwitchPort=\"0\" BackupNetworkSwitch=\"\" BackupNetworkSwitchPort=\"0\" AdapterIsHardwareRedundant=\"false\" HostDeviceIsRedundantCapable=\"false\" />\\n\\t\\t<MarkVIeNetworkAdapter Enabled=\"true\" WireSpeed=\"Auto\" IPAddress=\"114.210.243.205\" HostName=\"ccmi\" NetworkName=\"IoNet2\" AdapterNumber=\"3\" NetworkSwitch=\"\" NetworkSwitchPort=\"0\" BackupNetworkSwitch=\"\" BackupNetworkSwitchPort=\"0\" AdapterIsHardwareRedundant=\"false\" HostDeviceIsRedundantCapable=\"false\" />\\n\\t\\t<MarkVIeNetworkAdapter Enabled=\"true\" WireSpeed=\"Auto\" IPAddress=\"248.177.101.23\" HostName=\"ccmi\" NetworkName=\"IoNet3\" AdapterNumber=\"4\" NetworkSwitch=\"\" NetworkSwitchPort=\"0\" BackupNetworkSwitch=\"\" BackupNetworkSwitchPort=\"0\" AdapterIsHardwareRedundant=\"false\" HostDeviceIsRedundantCapable=\"false\" />\\n\\t</NetworkAdapters>\\n\\t<CustomConfigurationFiles />\\n\\t<ZK2188310901404A>AAAEofpH2NFrHrYE2JLM62tMPDb/GUcs6pecf4QNQqjcXX39Vs7UohiQTj5ARkE1p8yyT8UWWk2pDzlRwir6Ey4C3w46ECg7g+lRDx+Whqy8muIXjAAdU0QMQ6iE2F9JfGzpClMU0dJmrtVGo4FZYHFg6P0fs23DRLb13cRHly1HGEc/XLfN5fhsqYL43BRRaQcgbAGCAJSStAVRPraqyipxuhHYebP279P8Qryvzmb2DFnEhCWR8BNvQVx7gjD9t1hdlWK/zmrClDxlpadbtwEWzLgJVmbLLfoeD5T/zUgJ4FGGYHU8z9/XgSczjF0RVRw3dTdhctg7f/2l4BB8jDpP16YrWw4Ex/rW+yaum3yM3LgtZu8WNzGmDW/cDeYCzod6</ZK2188310901404A>\\n\\t<RequisitionInfo RequisitionNumber=\"\" DrawingNumber=\"\" ProcessApplication=\"\" Engineer=\"\" ShopOrderNo=\"\" DMNumber=\"\" SerialNumber=\"\" MachineSize=\"\" IsVisualizationEnabled=\"false\" />\\n\\t<NetworkCommsConfig />\\n\\t<WatchCollection />\\n\\t<ZK2188310901404A>AAAEtPXu1uu9jpZ5RTdlWwfUQZIaxVjFKrXqYSH8QOOLLVgxmuAj0jXz0uQcd2CUXfw3fIYr58i8sjovUIs3vYgeAMQOqVWMtsjaTZMMSAvd6hqE7mDtBHe+nidGD2/0RY1IGCSvI0+zmvSxQWFslZQ+xQ==</ZK2188310901404A>\\n\\t<ControllerRootSymbols NumBools=\"73\" NumInts=\"1\" NumDInts=\"1\" NumReals=\"24\" NumLReals=\"1\" NumUInts=\"21\" NumUDInts=\"3\" NumNovRam=\"1\" TimeOfLastVariableCompress=\"2022-03-01T21:09:08\" TimeOfLastNovRamCompress=\"2022-03-01T21:09:08\" TrueAddress=\"16777260\" FalseAddress=\"16777261\" GoodStatusAddress=\"100663313\" FFStatusDumpingAddress=\"100663314\">\\n\\t\\t<GlobalVariables FileName=\"Variables.xml\" />\\n\\t\\t<AlarmVariables>\\n\\t\\t\\t<Variable Name=\"Alarm.HornSilence\" Description=\"When set to true by application code resets Alarm.Horn\" Scope=\"Global\" DataType=\"BOOL\" Address=\"01000001\" GlobalNamePrefix=\"Full\" />\\n\\t\\t\\t<Variable Name=\"Alarm.Ack\" Description=\"When set true by application code all alarms in the alarm queue will be acknowledged\" Scope=\"Global\" DataType=\"BOOL\" Address=\"01000002\" GlobalNamePrefix=\"Full\" />\\n\\t\\t\\t<Variable Name=\"Alarm.Reset\" Description=\"When set true by application code all alarms that are normal and acknowledged will be reset/removed from the alarm queue\" Scope=\"Global\" DataType=\"BOOL\" Address=\"01000003\" GlobalNamePrefix=\"Full\" />\\n\\t\\t\\t<Variable Name=\"Alarm.Indicator\" Description=\"Set to true when there is at least one alarm in the queue, false when the alarm queue is empty\" Scope=\"Global\" DataType=\"BOOL\" Address=\"01000004\" GlobalNamePrefix=\"Full\" />\\n\\t\\t\\t<Variable Name=\"Alarm.Horn\" Description=\"Set to true every time a new alarm occurs. Can be used to drive physical horn.\" Scope=\"Global\" DataType=\"BOOL\" Address=\"01000005\" GlobalNamePrefix=\"Full\" />\\n\\t\\t\\t<Variable Name=\"Hold.Permissive\" Description=\"Indication of the permissive to hold the turbine sequence\" Scope=\"Global\" DataType=\"BOOL\" Address=\"01000006\" GlobalNamePrefix=\"Full\" />\\n\\t\\t\\t<Variable Name=\"Alarm.ActiveCount\" Description=\"The number of process alarms and FOUNDATION Fieldbus alerts in the controller alarm queue.\" Scope=\"Global\" DataType=\"UINT\" Address=\"06000001\" GlobalNamePrefix=\"Full\" />\\n\\t\\t\\t<Variable Name=\"DefaultGrpInhibit\" Scope=\"Global\" DataType=\"BOOL\" Address=\"01000007\" GlobalNamePrefix=\"Full\" />\\n\\t\\t\\t<Variable Name=\"AlarmSpecialToken\" Scope=\"Global\" DataType=\"UINT\" Address=\"06000002\" GlobalNamePrefix=\"Full\" />\\n\\t\\t\\t<Variable Name=\"Alarm.AckCount\" Description=\"The number of acknowledged process alarms and FOUNDATION Fieldbus alerts in the controller alarm queue.\" Scope=\"Global\" DataType=\"UINT\" Address=\"0600000F\" GlobalNamePrefix=\"Full\" />\\n\\t\\t\\t<Variable Name=\"Alarm.UnAckCount\" Description=\"The number of unacknowledged process alarms and FOUNDATION Fieldbus alerts in the controller alarm queue.\" Scope=\"Global\" DataType=\"UINT\" Address=\"06000010\" GlobalNamePrefix=\"Full\" />\\n\\t\\t</AlarmVariables>\\n\\t</ControllerRootSymbols>\\n\\t<BlockLibraries>\\n\\t\\t<Library Name=\"LegacyBlockLib\" Desc=\"Legacy block library, used for conversion\" Type=\"FunctionLibrary\" BuildVersion=\"200000A\" SupportsRedundantControlSets=\"true\" SupportsOnlineDownload=\"true\" File=\"LegacyBlockLib.dll\" Dir=\"&lt;InstallRoot&gt;MarkVIe\\\\V07.00.00B\\\\LegacyBlockLib\" ImportOnly=\"true\" />\\n\\t\\t<Library Name=\"SFCBlockLib\" Desc=\"Sequential Function Chart (SFC) block library\" Type=\"FunctionLibrary\" BuildVersion=\"200000A\" SupportsRedundantControlSets=\"true\" SupportsOnlineDownload=\"true\" File=\"SFCBlockLib.dll\" Dir=\"&lt;InstallRoot&gt;MarkVIe\\\\V07.00.00B\\\\SFCBlockLib\" ImportOnly=\"true\" />\\n\\t\\t<Library Name=\"StandardBlockLib\" Desc=\"Standard block library – Common for most device types\" Type=\"FunctionLibrary\" BuildVersion=\"200000A\" SupportsRedundantControlSets=\"true\" SupportsOnlineDownload=\"true\" File=\"StandardBlockLib.dll\" Dir=\"&lt;InstallRoot&gt;MarkVIe\\\\V07.00.00B\\\\StandardBlockLib\" ImportOnly=\"true\" />\\n\\t\\t<Library Name=\"DCSBlockLib\" Desc=\"Distributed Control System (DCS) block library\" Type=\"FunctionLibrary\" BuildVersion=\"200000A\" SupportsRedundantControlSets=\"true\" SupportsOnlineDownload=\"true\" File=\"DCSBlockLib.dll\" Dir=\"&lt;InstallRoot&gt;MarkVIe\\\\V07.00.00B\\\\DCSBlockLib\" ImportOnly=\"true\" />\\n\\t\\t<Library Name=\"MarkVBlockLib\" Desc=\"Mark V block library – Common for Mark Ve applications\" Type=\"FunctionLibrary\" BuildVersion=\"200000A\" SupportsRedundantControlSets=\"true\" SupportsOnlineDownload=\"true\" File=\"MarkVBlockLib.dll\" Dir=\"&lt;InstallRoot&gt;MarkVIe\\\\V07.00.00B\\\\MarkVBlockLib\" ImportOnly=\"true\" />\\n\\t\\t<Library Name=\"TurbineBlockLib\" Desc=\"Turbine block library for the Mark VIe controller\" Type=\"FunctionLibrary\" BuildVersion=\"200000A\" SupportsRedundantControlSets=\"true\" SupportsOnlineDownload=\"true\" File=\"TurbineBlockLib.dll\" Dir=\"&lt;InstallRoot&gt;MarkVIe\\\\V07.00.00B\\\\TurbineBlockLib\" ImportOnly=\"true\" />\\n\\t</BlockLibraries>\\n\\t<ExecutionGroups>\\n\\t\\t<ExecutionGroup Name=\"Primary Execution Group\" Core=\"0\" FrameMultiplier=\"1\" />\\n\\t</ExecutionGroups>\\n\\t<ProgramList>\\n\\t\\t<Program Name=\"Prog1\" Type=\"ProgramFile\" File=\"_Prog1.xml\" Unlink=\"false\" ExecutionGroup=\"Primary Execution Group\" />\\n\\t</ProgramList>\\n\\t<DefaultDiagramStyle executionorderheight=\"NaN\" executionorderwidth=\"NaN\" linethickness=\"NaN\" nametextheight=\"NaN\" pinconnectorh=\"NaN\" pinconnectorw=\"NaN\" pinh=\"NaN\" pinw=\"NaN\" scalex=\"NaN\" scaley=\"NaN\" shadowsize=\"NaN\" textmarginx=\"NaN\" textmarginy=\"NaN\" wirethickness=\"NaN\" showpinconnectors=\"false\" hideunusedpins=\"bDefault\" showblockdrawings=\"bDefault\" showwiredconnectiontext=\"bDefault\" showCoordinateBorder=\"bDefault\" showXRefCoordinates=\"bDefault\" showXRefNumber=\"bDefault\" showXRefPinName=\"bDefault\" reorderPins=\"bDefault\" showXRefPage=\"bDefault\" showDescriptionsOnRail=\"bDefault\">\\n\\t\\t<ColorStyle linecolor=\"0\" blockcolor=\"0\" textcolor=\"0\" />\\n\\t\\t<PaperStyle width=\"NaN\" height=\"NaN\" zoom=\"2\" MarginLeft=\"0.3\" MarginTop=\"0.3\" MarginRight=\"10.7\" MarginBottom=\"8.2\" LastSavedMarginLeft=\"0.3\" LastSavedMarginTop=\"0.3\" LastSavedMarginWidth=\"10.4\" LastSavedMarginHeight=\"7.89999962\" Landscape=\"bDefault\" />\\n\\t</DefaultDiagramStyle>\\n\\t<NTPConfig OverrideSystemSettings=\"false\" Mode=\"Disabled\" PrimaryUnicastServer=\"192.168.101.2\" SecondaryUnicastServer=\"255.255.255.255\" />\\n\\t<OverridableLibraryProperties Names=\"\">\\n\\t\\t<ZK2188310901404A>AAAE0rDjJuuGUeJZjC3bwtY/9ScNzmrdqR9AWmn28o1dE3hrCrK97uQNAFOsCCE3XoFM4IAo/jdH2hHtfMiEiMOL2h3nrZk9WJmf1RdiQLpmYtM=</ZK2188310901404A>\\n\\t</OverridableLibraryProperties>\\n\\t<DynamicDataRecorders FileName=\"ddrs.xml\" />\\n\\t<DistributedIO FileName=\"DistributedIO.Xml\" IONetRedundancy=\"Simplex\" HasFoundationFieldbus=\"false\" HasMarkVIMigration=\"false\" />\\n\\t<ModbusSlave FileName=\"ModbusSlave.Xml\" />\\n\\t<ModbusMasterBlockwareConfig KeepAlive=\"10\" CommandResponseTime=\"100\" ConnectionTimeout=\"10\" />\\n\\t<UndrivenConstantsSettings ShowControlConstants=\"true\" ShowAllUndrivenVariables=\"false\" />\\n</MarkVIDevice>test'"
      ]
     },
     "execution_count": 13,
     "metadata": {},
     "output_type": "execute_result"
    }
   ],
   "source": [
    "new_text"
   ]
  },
  {
   "cell_type": "code",
   "execution_count": null,
   "id": "41eba339-e70a-48aa-9dd9-0ed4c0c83e61",
   "metadata": {},
   "outputs": [],
   "source": []
  }
 ],
 "metadata": {
  "kernelspec": {
   "display_name": "Python 3 (ipykernel)",
   "language": "python",
   "name": "python3"
  },
  "language_info": {
   "codemirror_mode": {
    "name": "ipython",
    "version": 3
   },
   "file_extension": ".py",
   "mimetype": "text/x-python",
   "name": "python",
   "nbconvert_exporter": "python",
   "pygments_lexer": "ipython3",
   "version": "3.9.13"
  }
 },
 "nbformat": 4,
 "nbformat_minor": 5
}
